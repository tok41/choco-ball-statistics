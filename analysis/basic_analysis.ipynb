{
 "cells": [
  {
   "cell_type": "markdown",
   "metadata": {},
   "source": [
    "# 目的\n",
    "- 基礎的な集計をする"
   ]
  },
  {
   "cell_type": "code",
   "execution_count": 1,
   "metadata": {},
   "outputs": [],
   "source": [
    "import sys, os\n",
    "import sqlite3\n",
    "import numpy as np\n",
    "import pandas as pd\n",
    "import scipy.stats as stats\n",
    "\n",
    "%matplotlib inline\n",
    "import matplotlib.pyplot as plt\n",
    "\n",
    "from datetime import datetime as dt"
   ]
  },
  {
   "cell_type": "markdown",
   "metadata": {},
   "source": [
    "# データの取得"
   ]
  },
  {
   "cell_type": "code",
   "execution_count": 2,
   "metadata": {},
   "outputs": [],
   "source": [
    "def get_data(db_file='../data/choco-ball.db', table_name='measurement', filter_str=None):\n",
    "    \"\"\"\n",
    "    dbファイルから計測データを取得する\n",
    "    \n",
    "    TODO:\n",
    "        エラー処理を入れる\n",
    "    \"\"\"\n",
    "    con = sqlite3.connect(db_file)\n",
    "    sql = 'SELECT '\n",
    "    sql += 'measure_date,best_before,prd_number,weight,box_weight,ball_number,factory,shop,angel,campaign,taste '\n",
    "    sql += ', (weight - box_weight), (weight - box_weight)/ball_number '\n",
    "    sql += 'FROM ' + table_name + ' '\n",
    "    if filter_str is not None:\n",
    "        sql += 'WHERE ' + filter_str\n",
    "    sql += ';'\n",
    "    sql_result = con.execute(sql)\n",
    "    res = sql_result.fetchall()\n",
    "    con.close()\n",
    "    data = pd.DataFrame(res, columns=['measure_date','best_before','prd_number','weight','box_weight','ball_number','factory','shop','angel','campaign','taste','net_weight','mean_weight'])\n",
    "    print 'Shape of MeasurementData(record_num, n_columns) : {}'.format(data.shape)\n",
    "    return data\n",
    "\n",
    "def get_date_str():\n",
    "    tdatetime = dt.now()\n",
    "    tstr = tdatetime.strftime('%Y-%m-%d')\n",
    "    return tstr"
   ]
  },
  {
   "cell_type": "markdown",
   "metadata": {},
   "source": [
    "# 基礎集計"
   ]
  },
  {
   "cell_type": "code",
   "execution_count": 3,
   "metadata": {},
   "outputs": [],
   "source": [
    "def output_hist(data, plt_file, min_range=27.0, max_range=31.0, step=0.1, spec=28.0):\n",
    "    b = np.arange(min_range, max_range, step)\n",
    "    ret = plt.hist(data['net_weight'], \n",
    "                   bins=b, color=\"#0000FF\", alpha=0.5, edgecolor=\"#0000FF\", \n",
    "                   label='measure', normed=True)\n",
    "    plt.vlines(x=spec, ymin=0, ymax=ret[0].max(), \n",
    "               colors='#FF0000', linewidths=2, label='spec')\n",
    "    # 最尤推定パラメータの分布\n",
    "    x = np.linspace(min_range, max_range, 300)\n",
    "    y = stats.norm.pdf(x, loc=data['net_weight'].mean(), scale=data['net_weight'].std())\n",
    "    plt.plot(x, y, lw=3, color='#0000FF', label='MLE')\n",
    "    plt.legend()\n",
    "    plt.xlabel('net weight [g]')\n",
    "    plt.ylabel('frequency')\n",
    "    #plt.savefig(plt_file)\n",
    "    print 'save_figure : {}'.format(plt_file)"
   ]
  },
  {
   "cell_type": "code",
   "execution_count": 4,
   "metadata": {},
   "outputs": [],
   "source": [
    "def main():\n",
    "    db_file = '../data/choco-ball.db'\n",
    "    table_name = 'measurement'\n",
    "    filter_str = None#'taste=1'\n",
    "    # 計測データ取得\n",
    "    m_data = get_data(db_file=db_file, table_name=table_name, filter_str=filter_str)\n",
    "    # ファイル名のラベルのために日付を取得\n",
    "    t_str = get_date_str()\n",
    "    # データ集計\n",
    "    output_hist(data=m_data, plt_file='fig/base_hist_{}.png'.format(t_str))\n",
    "    #output_hist(data=m_data, plt_file='fig/base_hist_{}.png'.format(t_str), min_range=24,max_range=29)\n",
    "    # 表示用\n",
    "    print '| 計測データ数 | {} |'.format(m_data.shape[0])\n",
    "    print '| 銀のエンゼル出現数 | {} |'.format((m_data['angel']==1).sum())\n",
    "    print '| 金のエンゼル出現数 | {} |'.format((m_data['angel']==2).sum())\n",
    "    print('| 正味重量 | %2.3f | %2.3f | %2.3f | %2.3f |' % (\n",
    "        (m_data['net_weight']).min(), (m_data['net_weight']).median(), \n",
    "        (m_data['net_weight']).max(), (m_data['net_weight']).mean()))\n",
    "    print('| 個数 | %2.3f | %2.3f | %2.3f | %2.3f |' % (\n",
    "        (m_data['ball_number']).min(), (m_data['ball_number']).median(), \n",
    "        (m_data['ball_number']).max(), (m_data['ball_number']).mean()))\n",
    "    return m_data"
   ]
  },
  {
   "cell_type": "code",
   "execution_count": 5,
   "metadata": {},
   "outputs": [
    {
     "name": "stdout",
     "output_type": "stream",
     "text": [
      "Shape of MeasurementData(record_num, n_columns) : (61, 13)\n",
      "save_figure : fig/base_hist_2017-12-24.png\n",
      "| 計測データ数 | 61 |\n",
      "| 銀のエンゼル出現数 | 1 |\n",
      "| 金のエンゼル出現数 | 0 |\n",
      "| 正味重量 | 24.011 | 29.389 | 31.681 | 29.136 |\n",
      "| 個数 | 15.000 | 17.000 | 23.000 | 17.311 |\n"
     ]
    },
    {
     "data": {
      "image/png": "[encoded data removed]",
      "text/plain": [
       "<matplotlib.figure.Figure at 0x7ff5541c4050>"
      ]
     },
     "metadata": {},
     "output_type": "display_data"
    }
   ],
   "source": [
    "data = main()"
   ]
  },
  {
   "cell_type": "markdown",
   "metadata": {},
   "source": [
    "# おまけ：味の違いを集計"
   ]
  },
  {
   "cell_type": "code",
   "execution_count": 6,
   "metadata": {},
   "outputs": [
    {
     "data": {
      "text/plain": [
       "(61, 13)"
      ]
     },
     "execution_count": 6,
     "metadata": {},
     "output_type": "execute_result"
    }
   ],
   "source": [
    "data.shape"
   ]
  },
  {
   "cell_type": "code",
   "execution_count": 13,
   "metadata": {},
   "outputs": [],
   "source": [
    "g = data.groupby(['taste'])\n",
    "specs = [28.0, 25.0, 29.0, 29.0, 22.0]"
   ]
  },
  {
   "cell_type": "code",
   "execution_count": 15,
   "metadata": {},
   "outputs": [
    {
     "data": {
      "image/png": "[encoded data removed]",
      "text/plain": [
       "<matplotlib.figure.Figure at 0x7ff551217a10>"
      ]
     },
     "metadata": {},
     "output_type": "display_data"
    }
   ],
   "source": [
    "colors = ['blue', 'red', 'yellow', 'green', 'cyan']\n",
    "cnt=0\n",
    "for (key, group) in g:\n",
    "    group['net_weight'].hist(color=colors[cnt], alpha=0.3, edgecolor=colors[cnt], lw=2, normed=True)\n",
    "    cnt+=1\n",
    "plt.vlines(x=specs[0], ymin=0, ymax=4, \n",
    "               colors=colors[0], linewidths=2, label='spec_penuts')\n",
    "plt.vlines(x=specs[1], ymin=0, ymax=4, \n",
    "               colors=colors[1], linewidths=2, label='spec_ichigo')\n",
    "plt.vlines(x=specs[2], ymin=0, ymax=4, \n",
    "               colors=colors[2], linewidths=2, label='spec_kinako')\n",
    "plt.vlines(x=specs[3], ymin=0, ymax=4, \n",
    "               colors=colors[3], linewidths=2, label='spec_lemon')\n",
    "plt.vlines(x=specs[4], ymin=0, ymax=4, \n",
    "               colors=colors[4], linewidths=2, label='spec_amazake')\n",
    "plt.legend(loc=\"upper right\")\n",
    "plt.xlabel('net weight [g]')\n",
    "plt.ylabel('normalized frequency')\n",
    "plt.savefig('fig/basic_hist_three_taste.png')"
   ]
  },
  {
   "cell_type": "code",
   "execution_count": null,
   "metadata": {},
   "outputs": [],
   "source": []
  }
 ],
 "metadata": {
  "kernelspec": {
   "display_name": "Python 2",
   "language": "python",
   "name": "python2"
  },
  "language_info": {
   "codemirror_mode": {
    "name": "ipython",
    "version": 2
   },
   "file_extension": ".py",
   "mimetype": "text/x-python",
   "name": "python",
   "nbconvert_exporter": "python",
   "pygments_lexer": "ipython2",
   "version": "2.7.14"
  },
  "toc": {
   "nav_menu": {},
   "number_sections": true,
   "sideBar": true,
   "skip_h1_title": false,
   "toc_cell": false,
   "toc_position": {},
   "toc_section_display": "block",
   "toc_window_display": false
  }
 },
 "nbformat": 4,
 "nbformat_minor": 2
}
