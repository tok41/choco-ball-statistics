{
 "cells": [
  {
   "cell_type": "markdown",
   "metadata": {},
   "source": [
    "# 目的\n",
    "- チョコボールを認識する\n",
    "- ChainerCV利用"
   ]
  },
  {
   "cell_type": "code",
   "execution_count": 1,
   "metadata": {},
   "outputs": [],
   "source": [
    "import matplotlib.pyplot as plt\n",
    "%matplotlib inline\n",
    "\n",
    "import os\n",
    "import numpy as np\n",
    "\n",
    "import chainer\n",
    "\n",
    "from chainercv.chainer_experimental.datasets.sliceable import TupleDataset\n",
    "from chainercv.links import FasterRCNNVGG16\n",
    "from chainercv.links.model.faster_rcnn import FasterRCNNTrainChain\n",
    "from chainer.datasets import TransformDataset\n",
    "from chainercv import transforms\n",
    "from chainer import training\n",
    "from chainer.training import extensions"
   ]
  },
  {
   "cell_type": "code",
   "execution_count": 2,
   "metadata": {},
   "outputs": [],
   "source": [
    "HOME = './'"
   ]
  },
  {
   "cell_type": "markdown",
   "metadata": {},
   "source": [
    "# BoundingBoxDataSet"
   ]
  },
  {
   "cell_type": "code",
   "execution_count": 3,
   "metadata": {},
   "outputs": [],
   "source": [
    "def getClasses(classes_file):\n",
    "    # カテゴリファイル\n",
    "    classes = list()\n",
    "    with open(classes_file) as fd:\n",
    "        for one_line in fd.readlines():\n",
    "            cl = one_line.split('\\n')[0]\n",
    "            classes.append(cl)\n",
    "    return classes"
   ]
  },
  {
   "cell_type": "code",
   "execution_count": 4,
   "metadata": {},
   "outputs": [],
   "source": [
    "data_dir = os.path.join(HOME, 'data')\n",
    "\n",
    "file_img_set = os.path.join(data_dir, 'images.npy')\n",
    "file_bbox_set = os.path.join(data_dir, 'bounding_box_data.npy')\n",
    "file_object_ids = os.path.join(data_dir, 'object_ids.npy')\n",
    "\n",
    "file_classes = os.path.join(data_dir, 'classes.txt')"
   ]
  },
  {
   "cell_type": "code",
   "execution_count": 5,
   "metadata": {},
   "outputs": [],
   "source": [
    "imgs = np.load(file_img_set)\n",
    "bboxs = np.load(file_bbox_set)\n",
    "objectIDs = np.load(file_object_ids)\n",
    "classes = getClasses(file_classes)"
   ]
  },
  {
   "cell_type": "code",
   "execution_count": 6,
   "metadata": {},
   "outputs": [
    {
     "name": "stdout",
     "output_type": "stream",
     "text": [
      "(4, 3, 302, 403)\n",
      "['choco-ball', 'choco-package']\n"
     ]
    }
   ],
   "source": [
    "print(imgs.shape)\n",
    "print(classes)"
   ]
  },
  {
   "cell_type": "code",
   "execution_count": 7,
   "metadata": {},
   "outputs": [
    {
     "name": "stdout",
     "output_type": "stream",
     "text": [
      "('img', 'bbox', 'label')\n",
      "4\n"
     ]
    }
   ],
   "source": [
    "dataset = TupleDataset(('img', imgs), ('bbox', bboxs), ('label', objectIDs))\n",
    "print(dataset.keys)\n",
    "print(len(dataset))"
   ]
  },
  {
   "cell_type": "markdown",
   "metadata": {},
   "source": [
    "# load Faster R-CNN Model"
   ]
  },
  {
   "cell_type": "code",
   "execution_count": 8,
   "metadata": {},
   "outputs": [],
   "source": [
    "faster_rcnn = FasterRCNNVGG16(n_fg_class=len(classes), \n",
    "                              pretrained_model='imagenet')"
   ]
  },
  {
   "cell_type": "code",
   "execution_count": 9,
   "metadata": {},
   "outputs": [],
   "source": [
    "# プリセットされた閾値を使用する\n",
    "faster_rcnn.use_preset('evaluate')"
   ]
  },
  {
   "cell_type": "markdown",
   "metadata": {},
   "source": [
    "# Set Chain"
   ]
  },
  {
   "cell_type": "code",
   "execution_count": 10,
   "metadata": {},
   "outputs": [],
   "source": [
    "gpu_id = 0"
   ]
  },
  {
   "cell_type": "code",
   "execution_count": 11,
   "metadata": {},
   "outputs": [
    {
     "data": {
      "text/plain": [
       "<chainercv.links.model.faster_rcnn.faster_rcnn_train_chain.FasterRCNNTrainChain at 0x7f50377aec50>"
      ]
     },
     "execution_count": 11,
     "metadata": {},
     "output_type": "execute_result"
    }
   ],
   "source": [
    "model = FasterRCNNTrainChain(faster_rcnn)\n",
    "chainer.cuda.get_device_from_id(gpu_id).use()\n",
    "model.to_gpu()"
   ]
  },
  {
   "cell_type": "markdown",
   "metadata": {},
   "source": [
    "# Optimizer"
   ]
  },
  {
   "cell_type": "code",
   "execution_count": 12,
   "metadata": {},
   "outputs": [],
   "source": [
    "optimizer = chainer.optimizers.MomentumSGD(lr=0.001, momentum=0.9)\n",
    "optimizer.setup(model)\n",
    "optimizer.add_hook(chainer.optimizer_hooks.WeightDecay(rate=0.0005))"
   ]
  },
  {
   "cell_type": "markdown",
   "metadata": {},
   "source": [
    "# set data"
   ]
  },
  {
   "cell_type": "code",
   "execution_count": 13,
   "metadata": {},
   "outputs": [],
   "source": [
    "class Transform(object):\n",
    "\n",
    "    def __init__(self, faster_rcnn):\n",
    "        self.faster_rcnn = faster_rcnn\n",
    "\n",
    "    def __call__(self, in_data):\n",
    "        img, bbox, label = in_data\n",
    "        _, H, W = img.shape\n",
    "        img = self.faster_rcnn.prepare(img)\n",
    "        _, o_H, o_W = img.shape\n",
    "        scale = o_H / H\n",
    "        bbox = transforms.resize_bbox(bbox, (H, W), (o_H, o_W))\n",
    "\n",
    "        # horizontally flip\n",
    "        img, params = transforms.random_flip(\n",
    "            img, x_random=True, return_param=True)\n",
    "        bbox = transforms.flip_bbox(\n",
    "            bbox, (o_H, o_W), x_flip=params['x_flip'])\n",
    "\n",
    "        return img, bbox, label, scale"
   ]
  },
  {
   "cell_type": "code",
   "execution_count": 14,
   "metadata": {},
   "outputs": [],
   "source": [
    "train_data = TransformDataset(dataset, Transform(faster_rcnn))\n",
    "train_iter = chainer.iterators.SerialIterator(\n",
    "    train_data, batch_size=1)\n",
    "test_iter = chainer.iterators.SerialIterator(\n",
    "    dataset, batch_size=1, repeat=False, shuffle=False)"
   ]
  },
  {
   "cell_type": "markdown",
   "metadata": {},
   "source": [
    "# 学習の設定"
   ]
  },
  {
   "cell_type": "code",
   "execution_count": 15,
   "metadata": {},
   "outputs": [],
   "source": [
    "updater = chainer.training.updaters.StandardUpdater(\n",
    "    train_iter, optimizer, device=gpu_id)"
   ]
  },
  {
   "cell_type": "code",
   "execution_count": 16,
   "metadata": {},
   "outputs": [],
   "source": [
    "n_iter = 100\n",
    "out_dir = './out'\n",
    "trainer = training.Trainer(\n",
    "    updater, (n_iter, 'iteration'), out=out_dir)"
   ]
  },
  {
   "cell_type": "code",
   "execution_count": 17,
   "metadata": {},
   "outputs": [],
   "source": [
    "step_size = 100\n",
    "\n",
    "trainer.extend(\n",
    "    extensions.snapshot_object(model.faster_rcnn, 'snapshot_model.npz'),\n",
    "    trigger=(n_iter, 'iteration'))\n",
    "trainer.extend(extensions.ExponentialShift('lr', 0.1),\n",
    "               trigger=(step_size, 'iteration'))"
   ]
  },
  {
   "cell_type": "code",
   "execution_count": 18,
   "metadata": {},
   "outputs": [],
   "source": [
    "log_interval = 20, 'iteration'\n",
    "plot_interval = 3000, 'iteration'\n",
    "print_interval = 20, 'iteration'"
   ]
  },
  {
   "cell_type": "code",
   "execution_count": 19,
   "metadata": {
    "code_folding": [
     0,
     5
    ]
   },
   "outputs": [],
   "source": [
    "trainer.extend(chainer.training.extensions.observe_lr(),\n",
    "               trigger=log_interval)\n",
    "\n",
    "trainer.extend(extensions.LogReport(trigger=log_interval))\n",
    "\n",
    "trainer.extend(extensions.PrintReport(\n",
    "    ['iteration', 'epoch', 'elapsed_time', 'lr',\n",
    "     'main/loss',\n",
    "     'main/roi_loc_loss',\n",
    "     'main/roi_cls_loss',\n",
    "     'main/rpn_loc_loss',\n",
    "     'main/rpn_cls_loss',\n",
    "     'validation/main/map',\n",
    "    ]), trigger=print_interval)\n",
    "trainer.extend(extensions.ProgressBar(update_interval=10))\n",
    "\n",
    "trainer.extend(\n",
    "    extensions.PlotReport(\n",
    "        ['main/loss'],\n",
    "        file_name='loss.png', trigger=plot_interval\n",
    "    ),\n",
    "    trigger=plot_interval\n",
    ")\n",
    "\n",
    "trainer.extend(extensions.dump_graph('main/loss'))"
   ]
  },
  {
   "cell_type": "markdown",
   "metadata": {},
   "source": [
    "# Training"
   ]
  },
  {
   "cell_type": "code",
   "execution_count": 20,
   "metadata": {
    "scrolled": true
   },
   "outputs": [
    {
     "name": "stdout",
     "output_type": "stream",
     "text": [
      "\u001b[J     total [#####.............................................] 10.00%\n",
      "this epoch [#########################.........................] 50.00%\n",
      "        10 iter, 2 epoch / 100 iterations\n",
      "       inf iters/sec. Estimated time to finish: 0:00:00.\n",
      "\u001b[4Aiteration   epoch       elapsed_time  lr          main/loss   main/roi_loc_loss  main/roi_cls_loss  main/rpn_loc_loss  main/rpn_cls_loss  validation/main/map\n",
      "\u001b[J20          5           32.2552       0.001       1.92339     0.462111           0.442045           0.454201           0.565033                                \n",
      "\u001b[J     total [##########........................................] 20.00%\n",
      "this epoch [..................................................]  0.00%\n",
      "        20 iter, 5 epoch / 100 iterations\n",
      "    2.7954 iters/sec. Estimated time to finish: 0:00:28.618834.\n",
      "\u001b[4A\u001b[J     total [###############...................................] 30.00%\n",
      "this epoch [#########################.........................] 50.00%\n",
      "        30 iter, 7 epoch / 100 iterations\n",
      "    3.0612 iters/sec. Estimated time to finish: 0:00:22.866509.\n",
      "\u001b[4A\u001b[J40          10          38.5386       0.001       1.31897     0.473206           0.305086           0.235157           0.305522                                \n",
      "\u001b[J     total [####################..............................] 40.00%\n",
      "this epoch [..................................................]  0.00%\n",
      "        40 iter, 10 epoch / 100 iterations\n",
      "    3.0364 iters/sec. Estimated time to finish: 0:00:19.760143.\n",
      "\u001b[4A\u001b[J     total [#########################.........................] 50.00%\n",
      "this epoch [#########################.........................] 50.00%\n",
      "        50 iter, 12 epoch / 100 iterations\n",
      "    3.0916 iters/sec. Estimated time to finish: 0:00:16.172973.\n",
      "\u001b[4A\u001b[J60          15          45.0976       0.001       1.09662     0.458337           0.249245           0.164174           0.224861                                \n",
      "\u001b[J     total [##############################....................] 60.00%\n",
      "this epoch [..................................................]  0.00%\n",
      "        60 iter, 15 epoch / 100 iterations\n",
      "    3.0451 iters/sec. Estimated time to finish: 0:00:13.135707.\n",
      "\u001b[4A\u001b[J     total [###################################...............] 70.00%\n",
      "this epoch [#########################.........................] 50.00%\n",
      "        70 iter, 17 epoch / 100 iterations\n",
      "    3.0758 iters/sec. Estimated time to finish: 0:00:09.753551.\n",
      "\u001b[4A\u001b[J80          20          51.6502       0.001       0.899808    0.394434           0.19142            0.119056           0.194899                                \n",
      "\u001b[J     total [########################################..........] 80.00%\n",
      "this epoch [..................................................]  0.00%\n",
      "        80 iter, 20 epoch / 100 iterations\n",
      "    3.0471 iters/sec. Estimated time to finish: 0:00:06.563514.\n",
      "\u001b[4A\u001b[J     total [#############################################.....] 90.00%\n",
      "this epoch [#########################.........................] 50.00%\n",
      "        90 iter, 22 epoch / 100 iterations\n",
      "    3.0812 iters/sec. Estimated time to finish: 0:00:03.245494.\n",
      "\u001b[4A\u001b[J100         25          57.9668       0.001       0.839492    0.362828           0.160914           0.115178           0.200571                                \n",
      "\u001b[J     total [##################################################] 100.00%\n",
      "this epoch [..................................................]  0.00%\n",
      "       100 iter, 25 epoch / 100 iterations\n",
      "    3.0729 iters/sec. Estimated time to finish: 0:00:00.\n",
      "\u001b[4A\u001b[J"
     ]
    }
   ],
   "source": [
    "trainer.run()"
   ]
  },
  {
   "cell_type": "code",
   "execution_count": null,
   "metadata": {},
   "outputs": [],
   "source": []
  }
 ],
 "metadata": {
  "kernelspec": {
   "display_name": "Python 3",
   "language": "python",
   "name": "python3"
  },
  "language_info": {
   "codemirror_mode": {
    "name": "ipython",
    "version": 3
   },
   "file_extension": ".py",
   "mimetype": "text/x-python",
   "name": "python",
   "nbconvert_exporter": "python",
   "pygments_lexer": "ipython3",
   "version": "3.6.4"
  },
  "toc": {
   "base_numbering": 1,
   "nav_menu": {},
   "number_sections": true,
   "sideBar": true,
   "skip_h1_title": false,
   "title_cell": "Table of Contents",
   "title_sidebar": "Contents",
   "toc_cell": false,
   "toc_position": {},
   "toc_section_display": true,
   "toc_window_display": true
  }
 },
 "nbformat": 4,
 "nbformat_minor": 2
}
