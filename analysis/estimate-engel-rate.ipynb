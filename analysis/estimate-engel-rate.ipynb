{
 "cells": [
  {
   "cell_type": "markdown",
   "metadata": {},
   "source": [
    "# エンゼルの出現確率を予測する"
   ]
  },
  {
   "cell_type": "code",
   "execution_count": 1,
   "metadata": {
    "collapsed": true
   },
   "outputs": [],
   "source": [
    "import sys, os\n",
    "import sqlite3\n",
    "import numpy as np\n",
    "import pandas as pd\n",
    "\n",
    "%matplotlib inline\n",
    "import matplotlib.pyplot as plt\n",
    "\n",
    "from datetime import datetime as dt\n",
    "\n",
    "import pymc as pm\n",
    "import scipy.stats as stats"
   ]
  },
  {
   "cell_type": "markdown",
   "metadata": {},
   "source": [
    "# データの取得\n",
    "- データはDB（sqlite）に保存されている\n",
    "    - テーブル定義は、ブログに載っている通り"
   ]
  },
  {
   "cell_type": "code",
   "execution_count": 2,
   "metadata": {},
   "outputs": [
    {
     "name": "stdout",
     "output_type": "stream",
     "text": [
      "Shape of MeasurementData(record_num, n_columns) : (43, 13)\n"
     ]
    }
   ],
   "source": [
    "def get_data(db_file='../data/choco-ball.db', table_name='measurement', filter_str=None):\n",
    "    \"\"\"\n",
    "    dbファイルから計測データを取得する\n",
    "    \n",
    "    TODO:\n",
    "        エラー処理を入れる\n",
    "    \"\"\"\n",
    "    con = sqlite3.connect(db_file)\n",
    "    sql = 'SELECT '\n",
    "    sql += 'measure_date,best_before,prd_number,weight,box_weight,ball_number,factory,shop,angel,campaign,taste '\n",
    "    sql += ', (weight - box_weight), (weight - box_weight)/ball_number '\n",
    "    sql += 'FROM ' + table_name + ' '\n",
    "    if filter_str is not None:\n",
    "        sql += 'WHERE ' + filter_str\n",
    "    sql += ';'\n",
    "    sql_result = con.execute(sql)\n",
    "    res = sql_result.fetchall()\n",
    "    con.close()\n",
    "    data = pd.DataFrame(res, columns=['measure_date','best_before','prd_number','weight','box_weight','ball_number','factory','shop','angel','campaign','taste','net_weight','mean_weight'])\n",
    "    print 'Shape of MeasurementData(record_num, n_columns) : {}'.format(data.shape)\n",
    "    return data\n",
    "data = get_data(filter_str='taste=0')"
   ]
  },
  {
   "cell_type": "markdown",
   "metadata": {},
   "source": [
    "# エンゼル出現確率予測\n",
    "## 最尤推定"
   ]
  },
  {
   "cell_type": "code",
   "execution_count": 3,
   "metadata": {},
   "outputs": [
    {
     "name": "stdout",
     "output_type": "stream",
     "text": [
      "angel rate(freq):0.000\n"
     ]
    }
   ],
   "source": [
    "# 最尤推定量\n",
    "data_angel = data['angel'].values\n",
    "p_MLE = data_angel.mean()\n",
    "print 'angel rate(freq):%.3f'%(p_MLE)"
   ]
  },
  {
   "cell_type": "markdown",
   "metadata": {},
   "source": [
    "## ベイズ推定"
   ]
  },
  {
   "cell_type": "markdown",
   "metadata": {},
   "source": [
    "### モデル\n",
    "- データ過程：ベルヌーイ分布（確率pで事象が発生し、(1-p)で発生しない）\n",
    "- 事前分布：一様分布（0~1の実数を取る分布）"
   ]
  },
  {
   "cell_type": "code",
   "execution_count": 4,
   "metadata": {},
   "outputs": [
    {
     "name": "stdout",
     "output_type": "stream",
     "text": [
      " [-----------------100%-----------------] 15000 of 15000 complete in 0.5 sec"
     ]
    },
    {
     "data": {
      "text/plain": [
       "<matplotlib.legend.Legend at 0x11539bd10>"
      ]
     },
     "execution_count": 4,
     "metadata": {},
     "output_type": "execute_result"
    },
    {
     "data": {
      "image/png": "[encoded data removed]",
      "text/plain": [
       "<matplotlib.figure.Figure at 0x11b3b0dd0>"
      ]
     },
     "metadata": {},
     "output_type": "display_data"
    }
   ],
   "source": [
    "def getMCMCResult(data, n_sample=15000, n_burn=5000):\n",
    "    \"\"\"\n",
    "    MCMCでエンゼルの出現確率を予測する\n",
    "    Args:\n",
    "        data:エンゼルの観測結果(array)\n",
    "        n_sample:MCMCシミュレーションの回数(integer)\n",
    "        n_burn:捨てる数(integer)\n",
    "    \"\"\"\n",
    "    # 出現確率pの事前分布\n",
    "    p = pm.Uniform('p', lower=0, upper=1)\n",
    "    # 観測を結びつける\n",
    "    obs = pm.Bernoulli('obs', p, value=data, observed=True)\n",
    "    \n",
    "    # MCMC\n",
    "    # Modelオブジェクト生成\n",
    "    model = pm.Model([p, obs])\n",
    "    mcmc = pm.MCMC(model)\n",
    "    mcmc.sample(n_sample, n_burn)\n",
    "    \n",
    "    return mcmc.trace('p')[:]\n",
    "\n",
    "p_trace = getMCMCResult(data_angel)\n",
    "ret = plt.hist(p_trace, bins=np.linspace(0, 0.5, 50), normed=True, \n",
    "               color=\"#0000FF\", alpha=0.5, edgecolor=\"#0000FF\", lw=2)\n",
    "N = len(p_trace)\n",
    "bci = np.sort(p_trace)[int(N*0.95)]\n",
    "plt.vlines(x=bci, ymin=0, ymax=ret[0].max(), label='95% BayesCredibleInterval', \n",
    "          color='red', linestyles='--', linewidths=2)\n",
    "plt.legend()\n",
    "#plt.savefig('estimate_angel_rate_43.png')"
   ]
  },
  {
   "cell_type": "markdown",
   "metadata": {},
   "source": [
    "### 観測データ数毎の事後分布の推移"
   ]
  },
  {
   "cell_type": "markdown",
   "metadata": {},
   "source": [
    "#### 静止画"
   ]
  },
  {
   "cell_type": "code",
   "execution_count": 5,
   "metadata": {},
   "outputs": [
    {
     "name": "stdout",
     "output_type": "stream",
     "text": [
      " [-----------------100%-----------------] 15000 of 15000 complete in 0.5 sec"
     ]
    },
    {
     "data": {
      "image/png": "[encoded data removed]",
      "text/plain": [
       "<matplotlib.figure.Figure at 0x11b3dfd90>"
      ]
     },
     "metadata": {},
     "output_type": "display_data"
    }
   ],
   "source": [
    "plt.figure(figsize=(15, 12))\n",
    "\n",
    "n_list = [2, 5, 10, 20, 30, 43]\n",
    "cnt=0\n",
    "\n",
    "for n in n_list:\n",
    "    cnt+=1\n",
    "    plt.subplot(3,2,cnt)\n",
    "    p_trace = getMCMCResult(data_angel[:n])\n",
    "    ret = plt.hist(p_trace, bins=np.linspace(0, 0.5, 50), normed=True, \n",
    "                   color=\"#0000FF\", alpha=0.5, edgecolor=\"#0000FF\", lw=2)\n",
    "    plt.xlim([0, 0.5])\n",
    "    N = len(p_trace)\n",
    "    bci = np.sort(p_trace)[int(N*0.95)]\n",
    "    plt.vlines(x=bci, ymin=0, ymax=ret[0].max(), label='95% BayesCredibleInterval', \n",
    "               color='red', linestyles='--', linewidths=2)\n",
    "    plt.legend()\n",
    "    plt.title('observation number = %d'%n)\n",
    "#plt.savefig('fig/estimate_angel_rate_2-45.png')"
   ]
  },
  {
   "cell_type": "markdown",
   "metadata": {},
   "source": [
    "#### 動画\n",
    "- 参考\n",
    "    - https://qiita.com/AnchorBlues/items/3acd37331b12e844d259\n",
    "    - https://qiita.com/chez_sugi/items/93ff2efad50f16bc8c37\n",
    "- gifファイル書き出し\n",
    "    - ffmpeg, imagemagicのインストールが必要\n",
    "    - brewでインストール\n",
    "    - https://qiita.com/Ryosuke-Hujisawa/items/6a1c47d31ac299dc1c46\n"
   ]
  },
  {
   "cell_type": "code",
   "execution_count": 6,
   "metadata": {},
   "outputs": [
    {
     "data": {
      "text/plain": [
       "<matplotlib.figure.Figure at 0x11eb5f710>"
      ]
     },
     "metadata": {},
     "output_type": "display_data"
    }
   ],
   "source": [
    "import matplotlib.animation as anm\n",
    "\n",
    "fig = plt.figure(figsize = (10, 6))\n",
    "x = np.arange(0, 10, 0.1)\n",
    "\n",
    "def update(i):\n",
    "    if i != 0:\n",
    "        plt.cla()                      # 現在描写されているグラフを消去\n",
    "    \n",
    "    p_trace = getMCMCResult(data_angel[:i+1])\n",
    "    ret = plt.hist(p_trace, bins=np.linspace(0, 0.5, 50), normed=True, \n",
    "                   color=\"#0000FF\", alpha=0.5, edgecolor=\"#0000FF\", lw=2)\n",
    "    plt.xlim([0, 0.5])\n",
    "    N = len(p_trace)\n",
    "    bci = np.sort(p_trace)[int(N*0.95)]\n",
    "    plt.vlines(x=bci, ymin=0, ymax=ret[0].max(), label='95% BayesCredibleInterval', \n",
    "               color='red', linestyles='--', linewidths=2)\n",
    "    plt.legend(loc=\"upper right\")\n",
    "    plt.title('observation number = %d'%(i+1))\n",
    "\n",
    "ani = anm.FuncAnimation(fig, update, interval = 1000, frames = len(data_angel))\n",
    "\n",
    "#ani.save(\"fig/estimate_engel_rate.gif\", writer = 'imagemagick')"
   ]
  },
  {
   "cell_type": "code",
   "execution_count": null,
   "metadata": {
    "collapsed": true
   },
   "outputs": [],
   "source": []
  }
 ],
 "metadata": {
  "kernelspec": {
   "display_name": "Python 2",
   "language": "python",
   "name": "python2"
  },
  "language_info": {
   "codemirror_mode": {
    "name": "ipython",
    "version": 2
   },
   "file_extension": ".py",
   "mimetype": "text/x-python",
   "name": "python",
   "nbconvert_exporter": "python",
   "pygments_lexer": "ipython2",
   "version": "2.7.13"
  },
  "toc": {
   "nav_menu": {},
   "number_sections": true,
   "sideBar": true,
   "skip_h1_title": false,
   "toc_cell": false,
   "toc_position": {},
   "toc_section_display": "block",
   "toc_window_display": true
  }
 },
 "nbformat": 4,
 "nbformat_minor": 2
}
