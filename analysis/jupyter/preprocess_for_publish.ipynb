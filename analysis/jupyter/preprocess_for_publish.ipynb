{
 "cells": [
  {
   "cell_type": "markdown",
   "metadata": {},
   "source": [
    "# 目的\n",
    "- ブログ公開用にデータを事前に前処理する\n",
    "    - 名前の隠蔽"
   ]
  },
  {
   "cell_type": "code",
   "execution_count": 1,
   "metadata": {},
   "outputs": [],
   "source": [
    "import os, sys\n",
    "import numpy as np\n",
    "import pandas as pd\n",
    "\n",
    "import ChocoUtils as cu"
   ]
  },
  {
   "cell_type": "code",
   "execution_count": 2,
   "metadata": {},
   "outputs": [
    {
     "name": "stdout",
     "output_type": "stream",
     "text": [
      "SELECT measure_date, best_before, prd_number, weight, box_weight, ball_number, factory, shop, angel, campaign, taste, buyer, (weight - box_weight), (weight - box_weight)/ball_number FROM measurement WHERE campaign is not 1 and taste is not 10;\n",
      "Shape of MeasurementData(record_num, n_columns) : (290, 14)\n"
     ]
    }
   ],
   "source": [
    "data = cu.get_data(db_file='../../data/choco-ball.db', filter_str=\"campaign is not 1 and taste is not 10\")\n",
    "data = data.drop(columns=['shop', 'factory'])"
   ]
  },
  {
   "cell_type": "code",
   "execution_count": 4,
   "metadata": {},
   "outputs": [],
   "source": [
    "# 銀のエンゼルのフラグデータ\n",
    "data['silver'] = [1 if a == 1 else 0 for a in data['angel'].values]\n",
    "# 金のエンゼル\n",
    "data['gold'] = [1 if a == 2 else 0 for a in data['angel'].values]\n",
    "\n",
    "# 購入者の調整\n",
    "data['buyer'] = ['ピシャイ' if a in 'ピシャイ/佐藤' else a for a in data['buyer'].values]\n"
   ]
  },
  {
   "cell_type": "code",
   "execution_count": 5,
   "metadata": {},
   "outputs": [
    {
     "name": "stdout",
     "output_type": "stream",
     "text": [
      "       net_weight\n",
      "buyer            \n",
      "ピシャイ           80\n",
      "時田            142\n",
      "西田             59\n"
     ]
    }
   ],
   "source": [
    "# 購入者を限定する\n",
    "data = data.query('buyer in [\"ピシャイ\", \"西田\", \"時田\"]')\n",
    "\n",
    "grp = data.groupby(['buyer'])\n",
    "print(grp.count()[['net_weight']])"
   ]
  },
  {
   "cell_type": "code",
   "execution_count": 7,
   "metadata": {},
   "outputs": [],
   "source": [
    "name_dict = {'ピシャイ':'B', '時田':'A', '西田':'C'}"
   ]
  },
  {
   "cell_type": "code",
   "execution_count": 11,
   "metadata": {},
   "outputs": [],
   "source": [
    "data['buyer'] = [name_dict[nm] for nm in data['buyer']]"
   ]
  },
  {
   "cell_type": "code",
   "execution_count": 12,
   "metadata": {},
   "outputs": [
    {
     "data": {
      "text/html": [
       "<div>\n",
       "<style scoped>\n",
       "    .dataframe tbody tr th:only-of-type {\n",
       "        vertical-align: middle;\n",
       "    }\n",
       "\n",
       "    .dataframe tbody tr th {\n",
       "        vertical-align: top;\n",
       "    }\n",
       "\n",
       "    .dataframe thead th {\n",
       "        text-align: right;\n",
       "    }\n",
       "</style>\n",
       "<table border=\"1\" class=\"dataframe\">\n",
       "  <thead>\n",
       "    <tr style=\"text-align: right;\">\n",
       "      <th></th>\n",
       "      <th>measure_date</th>\n",
       "      <th>best_before</th>\n",
       "      <th>prd_number</th>\n",
       "      <th>weight</th>\n",
       "      <th>box_weight</th>\n",
       "      <th>ball_number</th>\n",
       "      <th>angel</th>\n",
       "      <th>campaign</th>\n",
       "      <th>taste</th>\n",
       "      <th>buyer</th>\n",
       "      <th>net_weight</th>\n",
       "      <th>mean_weight</th>\n",
       "      <th>silver</th>\n",
       "      <th>gold</th>\n",
       "    </tr>\n",
       "  </thead>\n",
       "  <tbody>\n",
       "    <tr>\n",
       "      <th>2</th>\n",
       "      <td>2017-12-10</td>\n",
       "      <td>2018-09-01</td>\n",
       "      <td>CA9</td>\n",
       "      <td>31.103</td>\n",
       "      <td>4.776</td>\n",
       "      <td>15</td>\n",
       "      <td>0</td>\n",
       "      <td>2</td>\n",
       "      <td>1</td>\n",
       "      <td>A</td>\n",
       "      <td>26.327</td>\n",
       "      <td>1.755133</td>\n",
       "      <td>0</td>\n",
       "      <td>0</td>\n",
       "    </tr>\n",
       "    <tr>\n",
       "      <th>3</th>\n",
       "      <td>2017-12-10</td>\n",
       "      <td>2018-09-01</td>\n",
       "      <td>CA9</td>\n",
       "      <td>31.477</td>\n",
       "      <td>4.767</td>\n",
       "      <td>15</td>\n",
       "      <td>0</td>\n",
       "      <td>2</td>\n",
       "      <td>1</td>\n",
       "      <td>A</td>\n",
       "      <td>26.710</td>\n",
       "      <td>1.780667</td>\n",
       "      <td>0</td>\n",
       "      <td>0</td>\n",
       "    </tr>\n",
       "    <tr>\n",
       "      <th>4</th>\n",
       "      <td>2017-12-10</td>\n",
       "      <td>2018-09-01</td>\n",
       "      <td>CA9</td>\n",
       "      <td>31.615</td>\n",
       "      <td>4.777</td>\n",
       "      <td>15</td>\n",
       "      <td>0</td>\n",
       "      <td>2</td>\n",
       "      <td>1</td>\n",
       "      <td>A</td>\n",
       "      <td>26.838</td>\n",
       "      <td>1.789200</td>\n",
       "      <td>0</td>\n",
       "      <td>0</td>\n",
       "    </tr>\n",
       "    <tr>\n",
       "      <th>5</th>\n",
       "      <td>2017-12-10</td>\n",
       "      <td>2018-09-01</td>\n",
       "      <td>CA9</td>\n",
       "      <td>31.212</td>\n",
       "      <td>4.785</td>\n",
       "      <td>15</td>\n",
       "      <td>0</td>\n",
       "      <td>2</td>\n",
       "      <td>1</td>\n",
       "      <td>A</td>\n",
       "      <td>26.427</td>\n",
       "      <td>1.761800</td>\n",
       "      <td>0</td>\n",
       "      <td>0</td>\n",
       "    </tr>\n",
       "    <tr>\n",
       "      <th>6</th>\n",
       "      <td>2017-12-10</td>\n",
       "      <td>2018-09-01</td>\n",
       "      <td>CA9</td>\n",
       "      <td>31.394</td>\n",
       "      <td>4.819</td>\n",
       "      <td>15</td>\n",
       "      <td>0</td>\n",
       "      <td>2</td>\n",
       "      <td>1</td>\n",
       "      <td>A</td>\n",
       "      <td>26.575</td>\n",
       "      <td>1.771667</td>\n",
       "      <td>0</td>\n",
       "      <td>0</td>\n",
       "    </tr>\n",
       "  </tbody>\n",
       "</table>\n",
       "</div>"
      ],
      "text/plain": [
       "  measure_date best_before prd_number  weight  box_weight  ball_number  angel  \\\n",
       "2   2017-12-10  2018-09-01        CA9  31.103       4.776           15      0   \n",
       "3   2017-12-10  2018-09-01        CA9  31.477       4.767           15      0   \n",
       "4   2017-12-10  2018-09-01        CA9  31.615       4.777           15      0   \n",
       "5   2017-12-10  2018-09-01        CA9  31.212       4.785           15      0   \n",
       "6   2017-12-10  2018-09-01        CA9  31.394       4.819           15      0   \n",
       "\n",
       "   campaign  taste buyer  net_weight  mean_weight  silver  gold  \n",
       "2         2      1     A      26.327     1.755133       0     0  \n",
       "3         2      1     A      26.710     1.780667       0     0  \n",
       "4         2      1     A      26.838     1.789200       0     0  \n",
       "5         2      1     A      26.427     1.761800       0     0  \n",
       "6         2      1     A      26.575     1.771667       0     0  "
      ]
     },
     "execution_count": 12,
     "metadata": {},
     "output_type": "execute_result"
    }
   ],
   "source": [
    "data.head()"
   ]
  },
  {
   "cell_type": "code",
   "execution_count": 14,
   "metadata": {},
   "outputs": [
    {
     "data": {
      "text/html": [
       "<div>\n",
       "<style scoped>\n",
       "    .dataframe tbody tr th:only-of-type {\n",
       "        vertical-align: middle;\n",
       "    }\n",
       "\n",
       "    .dataframe tbody tr th {\n",
       "        vertical-align: top;\n",
       "    }\n",
       "\n",
       "    .dataframe thead th {\n",
       "        text-align: right;\n",
       "    }\n",
       "</style>\n",
       "<table border=\"1\" class=\"dataframe\">\n",
       "  <thead>\n",
       "    <tr style=\"text-align: right;\">\n",
       "      <th></th>\n",
       "      <th>measure_date</th>\n",
       "      <th>best_before</th>\n",
       "      <th>prd_number</th>\n",
       "      <th>weight</th>\n",
       "      <th>box_weight</th>\n",
       "      <th>ball_number</th>\n",
       "      <th>angel</th>\n",
       "      <th>campaign</th>\n",
       "      <th>taste</th>\n",
       "      <th>net_weight</th>\n",
       "      <th>mean_weight</th>\n",
       "      <th>silver</th>\n",
       "      <th>gold</th>\n",
       "      <th>buyer_idx</th>\n",
       "    </tr>\n",
       "    <tr>\n",
       "      <th>buyer</th>\n",
       "      <th></th>\n",
       "      <th></th>\n",
       "      <th></th>\n",
       "      <th></th>\n",
       "      <th></th>\n",
       "      <th></th>\n",
       "      <th></th>\n",
       "      <th></th>\n",
       "      <th></th>\n",
       "      <th></th>\n",
       "      <th></th>\n",
       "      <th></th>\n",
       "      <th></th>\n",
       "      <th></th>\n",
       "    </tr>\n",
       "  </thead>\n",
       "  <tbody>\n",
       "    <tr>\n",
       "      <th>A</th>\n",
       "      <td>142</td>\n",
       "      <td>142</td>\n",
       "      <td>142</td>\n",
       "      <td>142</td>\n",
       "      <td>142</td>\n",
       "      <td>142</td>\n",
       "      <td>142</td>\n",
       "      <td>142</td>\n",
       "      <td>142</td>\n",
       "      <td>142</td>\n",
       "      <td>142</td>\n",
       "      <td>142</td>\n",
       "      <td>142</td>\n",
       "      <td>142</td>\n",
       "    </tr>\n",
       "    <tr>\n",
       "      <th>B</th>\n",
       "      <td>80</td>\n",
       "      <td>80</td>\n",
       "      <td>80</td>\n",
       "      <td>80</td>\n",
       "      <td>80</td>\n",
       "      <td>80</td>\n",
       "      <td>80</td>\n",
       "      <td>80</td>\n",
       "      <td>80</td>\n",
       "      <td>80</td>\n",
       "      <td>80</td>\n",
       "      <td>80</td>\n",
       "      <td>80</td>\n",
       "      <td>80</td>\n",
       "    </tr>\n",
       "    <tr>\n",
       "      <th>C</th>\n",
       "      <td>59</td>\n",
       "      <td>59</td>\n",
       "      <td>59</td>\n",
       "      <td>59</td>\n",
       "      <td>59</td>\n",
       "      <td>59</td>\n",
       "      <td>59</td>\n",
       "      <td>59</td>\n",
       "      <td>59</td>\n",
       "      <td>59</td>\n",
       "      <td>59</td>\n",
       "      <td>59</td>\n",
       "      <td>59</td>\n",
       "      <td>59</td>\n",
       "    </tr>\n",
       "  </tbody>\n",
       "</table>\n",
       "</div>"
      ],
      "text/plain": [
       "       measure_date  best_before  prd_number  weight  box_weight  ball_number  \\\n",
       "buyer                                                                           \n",
       "A               142          142         142     142         142          142   \n",
       "B                80           80          80      80          80           80   \n",
       "C                59           59          59      59          59           59   \n",
       "\n",
       "       angel  campaign  taste  net_weight  mean_weight  silver  gold  \\\n",
       "buyer                                                                  \n",
       "A        142       142    142         142          142     142   142   \n",
       "B         80        80     80          80           80      80    80   \n",
       "C         59        59     59          59           59      59    59   \n",
       "\n",
       "       buyer_idx  \n",
       "buyer             \n",
       "A            142  \n",
       "B             80  \n",
       "C             59  "
      ]
     },
     "execution_count": 14,
     "metadata": {},
     "output_type": "execute_result"
    }
   ],
   "source": [
    "data.groupby(['buyer']).count()"
   ]
  },
  {
   "cell_type": "code",
   "execution_count": 16,
   "metadata": {},
   "outputs": [],
   "source": [
    "data.to_csv('angel_data_for_publish.csv', index=False)"
   ]
  },
  {
   "cell_type": "markdown",
   "metadata": {},
   "source": [
    "## 基礎集計"
   ]
  },
  {
   "cell_type": "code",
   "execution_count": 17,
   "metadata": {},
   "outputs": [
    {
     "data": {
      "text/plain": [
       "buyer\n",
       "A    142\n",
       "B     80\n",
       "C     59\n",
       "Name: taste, dtype: int64"
      ]
     },
     "execution_count": 17,
     "metadata": {},
     "output_type": "execute_result"
    }
   ],
   "source": [
    "data.groupby(['buyer']).count()['taste']"
   ]
  },
  {
   "cell_type": "code",
   "execution_count": 18,
   "metadata": {},
   "outputs": [
    {
     "data": {
      "text/plain": [
       "buyer  silver\n",
       "A      0         136\n",
       "       1           6\n",
       "B      0          75\n",
       "       1           5\n",
       "C      0          57\n",
       "       1           2\n",
       "Name: taste, dtype: int64"
      ]
     },
     "execution_count": 18,
     "metadata": {},
     "output_type": "execute_result"
    }
   ],
   "source": [
    "data.groupby(['buyer', 'silver']).count()['taste']"
   ]
  },
  {
   "cell_type": "code",
   "execution_count": 21,
   "metadata": {},
   "outputs": [
    {
     "name": "stdout",
     "output_type": "stream",
     "text": [
      "total: 281\n",
      "total(silver): 13\n",
      "MLE: 0.046263345195729534\n"
     ]
    }
   ],
   "source": [
    "print('total:', data.shape[0])\n",
    "print('total(silver):', data['silver'].sum())\n",
    "print('MLE:', data['silver'].sum()/data.shape[0])"
   ]
  },
  {
   "cell_type": "code",
   "execution_count": null,
   "metadata": {},
   "outputs": [],
   "source": []
  }
 ],
 "metadata": {
  "kernelspec": {
   "display_name": "Python 3",
   "language": "python",
   "name": "python3"
  },
  "language_info": {
   "codemirror_mode": {
    "name": "ipython",
    "version": 3
   },
   "file_extension": ".py",
   "mimetype": "text/x-python",
   "name": "python",
   "nbconvert_exporter": "python",
   "pygments_lexer": "ipython3",
   "version": "3.7.0"
  }
 },
 "nbformat": 4,
 "nbformat_minor": 2
}
