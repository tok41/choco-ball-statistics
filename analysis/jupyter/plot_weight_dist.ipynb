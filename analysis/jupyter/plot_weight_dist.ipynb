{
 "cells": [
  {
   "cell_type": "markdown",
   "metadata": {},
   "source": [
    "# 目的\n",
    "- 重量分布をplotする\n",
    "- 特定の日付の重量を色分けする"
   ]
  },
  {
   "cell_type": "code",
   "execution_count": 1,
   "metadata": {},
   "outputs": [],
   "source": [
    "import sys, os\n",
    "import sqlite3\n",
    "import numpy as np\n",
    "import pandas as pd\n",
    "import scipy.stats as stats\n",
    "\n",
    "%matplotlib inline\n",
    "import matplotlib.pyplot as plt\n",
    "import seaborn as sns, numpy as np\n",
    "\n",
    "import ChocoUtils as cu"
   ]
  },
  {
   "cell_type": "markdown",
   "metadata": {},
   "source": [
    "load data"
   ]
  },
  {
   "cell_type": "code",
   "execution_count": 2,
   "metadata": {},
   "outputs": [
    {
     "name": "stdout",
     "output_type": "stream",
     "text": [
      "SELECT measure_date, best_before, prd_number, weight, box_weight, ball_number, factory, shop, angel, campaign, taste, buyer, (weight - box_weight), (weight - box_weight)/ball_number FROM measurement WHERE taste in (0);\n",
      "Shape of MeasurementData(record_num, n_columns) : (301, 14)\n",
      "(301, 14)\n"
     ]
    }
   ],
   "source": [
    "data = cu.get_data(db_file='../../data/choco-ball.db', filter_str=\"taste in (0)\")\n",
    "print(data.shape)"
   ]
  },
  {
   "cell_type": "markdown",
   "metadata": {},
   "source": [
    "plot"
   ]
  },
  {
   "cell_type": "code",
   "execution_count": 27,
   "metadata": {},
   "outputs": [],
   "source": [
    "# 仕様の重量\n",
    "spec = {0:28.0, 1:25.0, 4:22.0, 7:26.0, 10:22.0}\n",
    "taste_name = {0:\"peanut\", 1:\"strawberry\", 4:\"ama-zake\", 7:\"pachi-pachi\", 10:\"pineapple\"}"
   ]
  },
  {
   "cell_type": "code",
   "execution_count": 28,
   "metadata": {},
   "outputs": [
    {
     "data": {
      "text/plain": [
       "<matplotlib.legend.Legend at 0x7f9712251d30>"
      ]
     },
     "execution_count": 28,
     "metadata": {},
     "output_type": "execute_result"
    },
    {
     "data": {
      "image/png": "[encoded data removed]",
      "text/plain": [
       "<Figure size 432x288 with 1 Axes>"
      ]
     },
     "metadata": {},
     "output_type": "display_data"
    }
   ],
   "source": [
    "fig = plt.figure(figsize=(6, 4))\n",
    "ax = fig.subplots(1, 1)\n",
    "\n",
    "bins = np.linspace(27., 35., 100)\n",
    "ret = ax.hist(data['net_weight'], \n",
    "               bins=bins, color=\"#0000FF\", alpha=0.5, edgecolor=\"#0000FF\", \n",
    "               label='measure')\n",
    "ax.set_xlabel(\"NetWeight [g]\")\n",
    "ax.legend()\n"
   ]
  },
  {
   "cell_type": "markdown",
   "metadata": {},
   "source": [
    "該当の日付のみ色分けしてplot"
   ]
  },
  {
   "cell_type": "code",
   "execution_count": 29,
   "metadata": {},
   "outputs": [],
   "source": [
    "#data['measure_date_t'] = pd.to_datetime(data['measure_date'], format='%Y-%m-%d')\n",
    "data['measure_date_t'] = pd.to_datetime(data['best_before'], format='%Y-%m-%d')"
   ]
  },
  {
   "cell_type": "code",
   "execution_count": 30,
   "metadata": {},
   "outputs": [],
   "source": [
    "#timeThresh = '2018-11-07'\n",
    "timeThresh = '2019-06-01'\n",
    "w_list = [data.loc[data['measure_date_t']<pd.to_datetime(timeThresh)]['net_weight'], \n",
    "          data.loc[data['measure_date_t']>=pd.to_datetime(timeThresh)]['net_weight']]"
   ]
  },
  {
   "cell_type": "code",
   "execution_count": 31,
   "metadata": {},
   "outputs": [
    {
     "name": "stderr",
     "output_type": "stream",
     "text": [
      "/home/yoichi/.pyenv/versions/anaconda2-4.3.0/envs/choco3/lib/python3.6/site-packages/numpy/core/fromnumeric.py:52: FutureWarning: reshape is deprecated and will raise in a subsequent release. Please use .values.reshape(...) instead\n",
      "  return getattr(obj, method)(*args, **kwds)\n"
     ]
    },
    {
     "data": {
      "image/png": "[encoded data removed]",
      "text/plain": [
       "<Figure size 720x288 with 1 Axes>"
      ]
     },
     "metadata": {},
     "output_type": "display_data"
    }
   ],
   "source": [
    "fig = plt.figure(figsize=(10,4))\n",
    "ax = fig.subplots(1, 1)\n",
    "\n",
    "ax.hist(w_list, bins=bins, color=['#0000FF', '#FF0000'], alpha=0.5, \n",
    "        label=['{}<'.format(timeThresh), '>={}'.format(timeThresh)], \n",
    "        histtype='bar', stacked=True)\n",
    "ax.set_xlabel('NetWeight [g]')\n",
    "ax.set_ylabel('freq')\n",
    "ax.legend()\n",
    "fig.savefig(\"weight_dist_peanuts.png\")"
   ]
  },
  {
   "cell_type": "code",
   "execution_count": 16,
   "metadata": {},
   "outputs": [],
   "source": [
    "import pymc as pm"
   ]
  },
  {
   "cell_type": "code",
   "execution_count": 17,
   "metadata": {},
   "outputs": [],
   "source": [
    "def getEstimatedWeightDist(values, spec, n_sample=15000, n_burn=5000):\n",
    "    # 精度$\\tau$(分散の逆数)\n",
    "    tau = 1.0 / pm.Uniform(\"std\", 0, 100)**2\n",
    "    # 分布の中心\n",
    "    ## 事前分布の中心として製品仕様を、tauを0.01(分散=100)\n",
    "    center = pm.Normal(\"center\", spec, 0.01)\n",
    "    # 観測とモデルを結びつける\n",
    "    observations = pm.Normal(\"obs\", center, tau, value=values, observed=True)\n",
    "    # Modelオブジェクト生成\n",
    "    model = pm.Model([tau, center])\n",
    "    \n",
    "    # MCMC\n",
    "    mcmc = pm.MCMC(model)\n",
    "    mcmc.sample(n_sample, n_burn)\n",
    "    \n",
    "    return mcmc.trace(\"center\")[:], mcmc.trace(\"std\")[:]"
   ]
  },
  {
   "cell_type": "code",
   "execution_count": 22,
   "metadata": {},
   "outputs": [
    {
     "name": "stdout",
     "output_type": "stream",
     "text": [
      " [-----------------100%-----------------] 15000 of 15000 complete in 1.6 sec"
     ]
    },
    {
     "name": "stderr",
     "output_type": "stream",
     "text": [
      "/home/yoichi/.pyenv/versions/anaconda2-4.3.0/envs/choco3/lib/python3.6/site-packages/matplotlib/axes/_axes.py:6462: UserWarning: The 'normed' kwarg is deprecated, and has been replaced by the 'density' kwarg.\n",
      "  warnings.warn(\"The 'normed' kwarg is deprecated, and has been \"\n"
     ]
    },
    {
     "name": "stdout",
     "output_type": "stream",
     "text": [
      " [-----------------100%-----------------] 15000 of 15000 complete in 1.4 sec"
     ]
    },
    {
     "data": {
      "image/png": "[encoded data removed]",
      "text/plain": [
       "<Figure size 720x288 with 1 Axes>"
      ]
     },
     "metadata": {},
     "output_type": "display_data"
    }
   ],
   "source": [
    "fig = plt.figure(figsize=(10, 4))\n",
    "ax = fig.subplots(1, 1)\n",
    "\n",
    "bins = np.linspace(0, 3.0, 100)\n",
    "labs = ['{}<'.format(timeThresh), '>={}'.format(timeThresh)]\n",
    "for i, value in enumerate(w_list):\n",
    "    e_center, e_std = getEstimatedWeightDist(values=value, spec=28)\n",
    "    sns.distplot((e_center-28), bins=bins, label=labs[i], ax=ax)\n",
    "ax.set_title('estimated weight dist. (spec=0)')\n",
    "ax.set_xlabel(\"(NetWeight - Spec) [g]\")\n",
    "ax.legend()\n",
    "fig.savefig(\"weight_estimate_bayes_peanuts.png\")"
   ]
  },
  {
   "cell_type": "code",
   "execution_count": null,
   "metadata": {},
   "outputs": [],
   "source": []
  }
 ],
 "metadata": {
  "kernelspec": {
   "display_name": "Python 3",
   "language": "python",
   "name": "python3"
  },
  "language_info": {
   "codemirror_mode": {
    "name": "ipython",
    "version": 3
   },
   "file_extension": ".py",
   "mimetype": "text/x-python",
   "name": "python",
   "nbconvert_exporter": "python",
   "pygments_lexer": "ipython3",
   "version": "3.6.4"
  },
  "toc": {
   "base_numbering": 1,
   "nav_menu": {},
   "number_sections": true,
   "sideBar": true,
   "skip_h1_title": false,
   "title_cell": "Table of Contents",
   "title_sidebar": "Contents",
   "toc_cell": false,
   "toc_position": {},
   "toc_section_display": true,
   "toc_window_display": false
  }
 },
 "nbformat": 4,
 "nbformat_minor": 2
}
