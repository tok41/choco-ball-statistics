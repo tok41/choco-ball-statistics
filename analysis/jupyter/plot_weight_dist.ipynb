{
 "cells": [
  {
   "cell_type": "markdown",
   "metadata": {},
   "source": [
    "# 目的\n",
    "- 重量分布を可視化する\n"
   ]
  },
  {
   "cell_type": "code",
   "execution_count": 1,
   "metadata": {},
   "outputs": [],
   "source": [
    "import sys, os\n",
    "import sqlite3\n",
    "import numpy as np\n",
    "import pandas as pd\n",
    "import scipy.stats as stats\n",
    "\n",
    "%matplotlib inline\n",
    "import matplotlib.pyplot as plt\n",
    "import seaborn as sns, numpy as np\n",
    "\n",
    "import ChocoUtils as cu"
   ]
  },
  {
   "cell_type": "code",
   "execution_count": 2,
   "metadata": {},
   "outputs": [],
   "source": [
    "sns.set()"
   ]
  },
  {
   "cell_type": "markdown",
   "metadata": {},
   "source": [
    "# load data"
   ]
  },
  {
   "cell_type": "code",
   "execution_count": 3,
   "metadata": {},
   "outputs": [
    {
     "name": "stdout",
     "output_type": "stream",
     "text": [
      "SELECT measure_date, best_before, prd_number, weight, box_weight, ball_number, factory, shop, angel, campaign, taste, buyer, (weight - box_weight), (weight - box_weight)/ball_number FROM measurement WHERE taste is not 10;\n",
      "Shape of MeasurementData(record_num, n_columns) : (636, 14)\n"
     ]
    }
   ],
   "source": [
    "data = cu.get_data(db_file='../..//data/choco-ball.db', filter_str=\"taste is not 10\")\n",
    "data = data.drop(columns=['factory'])\n",
    "#data.head()"
   ]
  },
  {
   "cell_type": "code",
   "execution_count": 4,
   "metadata": {},
   "outputs": [],
   "source": [
    "tastes = pd.read_csv('../../data/choco_tastes.csv')\n",
    "#tastes.head()"
   ]
  },
  {
   "cell_type": "code",
   "execution_count": 5,
   "metadata": {},
   "outputs": [],
   "source": [
    "data = pd.merge(data, tastes, left_on='taste', right_on='id')"
   ]
  },
  {
   "cell_type": "code",
   "execution_count": 6,
   "metadata": {},
   "outputs": [
    {
     "data": {
      "text/html": [
       "<div>\n",
       "<style scoped>\n",
       "    .dataframe tbody tr th:only-of-type {\n",
       "        vertical-align: middle;\n",
       "    }\n",
       "\n",
       "    .dataframe tbody tr th {\n",
       "        vertical-align: top;\n",
       "    }\n",
       "\n",
       "    .dataframe thead th {\n",
       "        text-align: right;\n",
       "    }\n",
       "</style>\n",
       "<table border=\"1\" class=\"dataframe\">\n",
       "  <thead>\n",
       "    <tr style=\"text-align: right;\">\n",
       "      <th></th>\n",
       "      <th></th>\n",
       "      <th>weight</th>\n",
       "    </tr>\n",
       "    <tr>\n",
       "      <th>taste</th>\n",
       "      <th>name_en</th>\n",
       "      <th></th>\n",
       "    </tr>\n",
       "  </thead>\n",
       "  <tbody>\n",
       "    <tr>\n",
       "      <th>0</th>\n",
       "      <th>peanut</th>\n",
       "      <td>454</td>\n",
       "    </tr>\n",
       "    <tr>\n",
       "      <th>1</th>\n",
       "      <th>strawberry</th>\n",
       "      <td>57</td>\n",
       "    </tr>\n",
       "    <tr>\n",
       "      <th>12</th>\n",
       "      <th>banana</th>\n",
       "      <td>43</td>\n",
       "    </tr>\n",
       "    <tr>\n",
       "      <th>11</th>\n",
       "      <th>m-catamel</th>\n",
       "      <td>16</td>\n",
       "    </tr>\n",
       "    <tr>\n",
       "      <th>13</th>\n",
       "      <th>peanut-white</th>\n",
       "      <td>14</td>\n",
       "    </tr>\n",
       "    <tr>\n",
       "      <th>4</th>\n",
       "      <th>amazake</th>\n",
       "      <td>10</td>\n",
       "    </tr>\n",
       "    <tr>\n",
       "      <th>7</th>\n",
       "      <th>pachipachi</th>\n",
       "      <td>10</td>\n",
       "    </tr>\n",
       "    <tr>\n",
       "      <th>15</th>\n",
       "      <th>hichew-grape</th>\n",
       "      <td>6</td>\n",
       "    </tr>\n",
       "    <tr>\n",
       "      <th>2</th>\n",
       "      <th>kinako</th>\n",
       "      <td>5</td>\n",
       "    </tr>\n",
       "    <tr>\n",
       "      <th>6</th>\n",
       "      <th>custard</th>\n",
       "      <td>5</td>\n",
       "    </tr>\n",
       "    <tr>\n",
       "      <th>9</th>\n",
       "      <th>pumpkin</th>\n",
       "      <td>4</td>\n",
       "    </tr>\n",
       "    <tr>\n",
       "      <th>14</th>\n",
       "      <th>grape-ramune</th>\n",
       "      <td>4</td>\n",
       "    </tr>\n",
       "    <tr>\n",
       "      <th>3</th>\n",
       "      <th>lemon</th>\n",
       "      <td>3</td>\n",
       "    </tr>\n",
       "    <tr>\n",
       "      <th>8</th>\n",
       "      <th>ramune</th>\n",
       "      <td>3</td>\n",
       "    </tr>\n",
       "    <tr>\n",
       "      <th>5</th>\n",
       "      <th>caramel</th>\n",
       "      <td>2</td>\n",
       "    </tr>\n",
       "  </tbody>\n",
       "</table>\n",
       "</div>"
      ],
      "text/plain": [
       "                    weight\n",
       "taste name_en             \n",
       "0     peanut           454\n",
       "1     strawberry        57\n",
       "12    banana            43\n",
       "11    m-catamel         16\n",
       "13    peanut-white      14\n",
       "4     amazake           10\n",
       "7     pachipachi        10\n",
       "15    hichew-grape       6\n",
       "2     kinako             5\n",
       "6     custard            5\n",
       "9     pumpkin            4\n",
       "14    grape-ramune       4\n",
       "3     lemon              3\n",
       "8     ramune             3\n",
       "5     caramel            2"
      ]
     },
     "execution_count": 6,
     "metadata": {},
     "output_type": "execute_result"
    }
   ],
   "source": [
    "data.groupby(['taste', 'name_en']).count()[['weight']].sort_values(by='weight', ascending=False)"
   ]
  },
  {
   "cell_type": "markdown",
   "metadata": {},
   "source": [
    "# 単純なplot"
   ]
  },
  {
   "cell_type": "code",
   "execution_count": 12,
   "metadata": {},
   "outputs": [
    {
     "data": {
      "text/plain": [
       "[<matplotlib.lines.Line2D at 0x12deb5a58>]"
      ]
     },
     "execution_count": 12,
     "metadata": {},
     "output_type": "execute_result"
    },
    {
     "data": {
      "image/png": "[encoded data removed]",
      "text/plain": [
       "<Figure size 432x288 with 1 Axes>"
      ]
     },
     "metadata": {},
     "output_type": "display_data"
    }
   ],
   "source": [
    "data_peanut = data[data.name_en == 'peanut']\n",
    "\n",
    "sns.distplot(data_peanut.net_weight)\n",
    "\n",
    "var_ml = np.var(data_peanut.net_weight)\n",
    "mu_ml = np.mean(data_peanut.net_weight)\n",
    "xs = np.linspace(28, 32, 1000)\n",
    "p = list(map(lambda x:stats.norm.pdf(x, loc=mu_ml, scale=var_ml), xs))\n",
    "plt.plot(xs, p)"
   ]
  },
  {
   "cell_type": "code",
   "execution_count": 14,
   "metadata": {},
   "outputs": [
    {
     "data": {
      "text/plain": [
       "[<matplotlib.lines.Line2D at 0x12e5ea4a8>]"
      ]
     },
     "execution_count": 14,
     "metadata": {},
     "output_type": "execute_result"
    },
    {
     "data": {
      "image/png": "[encoded data removed]",
      "text/plain": [
       "<Figure size 432x288 with 1 Axes>"
      ]
     },
     "metadata": {},
     "output_type": "display_data"
    }
   ],
   "source": [
    "data_strawberry = data[data.name_en == 'strawberry']\n",
    "\n",
    "sns.distplot(data_strawberry.net_weight)\n",
    "\n",
    "var_ml = np.var(data_strawberry.net_weight)\n",
    "mu_ml = np.mean(data_strawberry.net_weight)\n",
    "xs = np.linspace(24, 29, 1000)\n",
    "p = list(map(lambda x:stats.norm.pdf(x, loc=mu_ml, scale=var_ml), xs))\n",
    "plt.plot(xs, p)"
   ]
  },
  {
   "cell_type": "code",
   "execution_count": null,
   "metadata": {},
   "outputs": [],
   "source": []
  },
  {
   "cell_type": "code",
   "execution_count": null,
   "metadata": {},
   "outputs": [],
   "source": []
  },
  {
   "cell_type": "code",
   "execution_count": null,
   "metadata": {},
   "outputs": [],
   "source": [
    "# 仕様の重量\n",
    "spec = {0:28.0, 1:25.0, 4:22.0, 7:26.0, 10:22.0}\n",
    "taste_name = {0:\"peanut\", 1:\"strawberry\", 4:\"ama-zake\", 7:\"pachi-pachi\", 10:\"pineapple\"}"
   ]
  },
  {
   "cell_type": "code",
   "execution_count": null,
   "metadata": {},
   "outputs": [],
   "source": [
    "fig = plt.figure(figsize=(6, 4))\n",
    "ax = fig.subplots(1, 1)\n",
    "\n",
    "bins = np.linspace(27., 35., 100)\n",
    "ret = ax.hist(data['net_weight'], \n",
    "               bins=bins, color=\"#0000FF\", alpha=0.5, edgecolor=\"#0000FF\", \n",
    "               label='measure')\n",
    "ax.set_xlabel(\"NetWeight [g]\")\n",
    "ax.legend()\n"
   ]
  },
  {
   "cell_type": "markdown",
   "metadata": {},
   "source": [
    "該当の日付のみ色分けしてplot"
   ]
  },
  {
   "cell_type": "code",
   "execution_count": null,
   "metadata": {},
   "outputs": [],
   "source": [
    "#data['measure_date_t'] = pd.to_datetime(data['measure_date'], format='%Y-%m-%d')\n",
    "data['measure_date_t'] = pd.to_datetime(data['best_before'], format='%Y-%m-%d')"
   ]
  },
  {
   "cell_type": "code",
   "execution_count": null,
   "metadata": {},
   "outputs": [],
   "source": [
    "#timeThresh = '2018-11-07'\n",
    "timeThresh = '2019-06-01'\n",
    "w_list = [data.loc[data['measure_date_t']<pd.to_datetime(timeThresh)]['net_weight'], \n",
    "          data.loc[data['measure_date_t']>=pd.to_datetime(timeThresh)]['net_weight']]"
   ]
  },
  {
   "cell_type": "code",
   "execution_count": null,
   "metadata": {},
   "outputs": [],
   "source": [
    "fig = plt.figure(figsize=(10,4))\n",
    "ax = fig.subplots(1, 1)\n",
    "\n",
    "ax.hist(w_list, bins=bins, color=['#0000FF', '#FF0000'], alpha=0.5, \n",
    "        label=['{}<'.format(timeThresh), '>={}'.format(timeThresh)], \n",
    "        histtype='bar', stacked=True)\n",
    "ax.set_xlabel('NetWeight [g]')\n",
    "ax.set_ylabel('freq')\n",
    "ax.legend()\n",
    "fig.savefig(\"weight_dist_peanuts.png\")"
   ]
  },
  {
   "cell_type": "code",
   "execution_count": null,
   "metadata": {},
   "outputs": [],
   "source": [
    "import pymc as pm"
   ]
  },
  {
   "cell_type": "code",
   "execution_count": null,
   "metadata": {},
   "outputs": [],
   "source": [
    "def getEstimatedWeightDist(values, spec, n_sample=15000, n_burn=5000):\n",
    "    # 精度$\\tau$(分散の逆数)\n",
    "    tau = 1.0 / pm.Uniform(\"std\", 0, 100)**2\n",
    "    # 分布の中心\n",
    "    ## 事前分布の中心として製品仕様を、tauを0.01(分散=100)\n",
    "    center = pm.Normal(\"center\", spec, 0.01)\n",
    "    # 観測とモデルを結びつける\n",
    "    observations = pm.Normal(\"obs\", center, tau, value=values, observed=True)\n",
    "    # Modelオブジェクト生成\n",
    "    model = pm.Model([tau, center])\n",
    "    \n",
    "    # MCMC\n",
    "    mcmc = pm.MCMC(model)\n",
    "    mcmc.sample(n_sample, n_burn)\n",
    "    \n",
    "    return mcmc.trace(\"center\")[:], mcmc.trace(\"std\")[:]"
   ]
  },
  {
   "cell_type": "code",
   "execution_count": null,
   "metadata": {},
   "outputs": [],
   "source": [
    "fig = plt.figure(figsize=(10, 4))\n",
    "ax = fig.subplots(1, 1)\n",
    "\n",
    "bins = np.linspace(0, 3.0, 100)\n",
    "labs = ['{}<'.format(timeThresh), '>={}'.format(timeThresh)]\n",
    "for i, value in enumerate(w_list):\n",
    "    e_center, e_std = getEstimatedWeightDist(values=value, spec=28)\n",
    "    sns.distplot((e_center-28), bins=bins, label=labs[i], ax=ax)\n",
    "ax.set_title('estimated weight dist. (spec=0)')\n",
    "ax.set_xlabel(\"(NetWeight - Spec) [g]\")\n",
    "ax.legend()\n",
    "fig.savefig(\"weight_estimate_bayes_peanuts.png\")"
   ]
  },
  {
   "cell_type": "code",
   "execution_count": null,
   "metadata": {},
   "outputs": [],
   "source": []
  }
 ],
 "metadata": {
  "kernelspec": {
   "display_name": "Python 3",
   "language": "python",
   "name": "python3"
  },
  "language_info": {
   "codemirror_mode": {
    "name": "ipython",
    "version": 3
   },
   "file_extension": ".py",
   "mimetype": "text/x-python",
   "name": "python",
   "nbconvert_exporter": "python",
   "pygments_lexer": "ipython3",
   "version": "3.7.3"
  },
  "toc": {
   "base_numbering": 1,
   "nav_menu": {},
   "number_sections": true,
   "sideBar": true,
   "skip_h1_title": false,
   "title_cell": "Table of Contents",
   "title_sidebar": "Contents",
   "toc_cell": false,
   "toc_position": {},
   "toc_section_display": true,
   "toc_window_display": false
  }
 },
 "nbformat": 4,
 "nbformat_minor": 2
}
