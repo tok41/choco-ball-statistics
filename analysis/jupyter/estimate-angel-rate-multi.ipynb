{
 "cells": [
  {
   "cell_type": "markdown",
   "metadata": {},
   "source": [
    "# 目的\n",
    "- エンゼルの出現確率を購入者毎に予測する\n",
    "- 独立に予測するのと、階層モデルで予測するのを試す"
   ]
  },
  {
   "cell_type": "code",
   "execution_count": 1,
   "metadata": {},
   "outputs": [],
   "source": [
    "import os, sys\n",
    "import numpy as np\n",
    "import pandas as pd\n",
    "import scipy.stats as stats\n",
    "\n",
    "%matplotlib inline\n",
    "import matplotlib.pyplot as plt\n",
    "import seaborn as sns\n",
    "\n",
    "import pymc3 as pm\n",
    "\n",
    "import ChocoUtils as cu"
   ]
  },
  {
   "cell_type": "code",
   "execution_count": 2,
   "metadata": {},
   "outputs": [],
   "source": [
    "sns.set()"
   ]
  },
  {
   "cell_type": "markdown",
   "metadata": {},
   "source": [
    "# データの取得"
   ]
  },
  {
   "cell_type": "code",
   "execution_count": 3,
   "metadata": {},
   "outputs": [
    {
     "name": "stdout",
     "output_type": "stream",
     "text": [
      "SELECT measure_date, best_before, prd_number, weight, box_weight, ball_number, factory, shop, angel, campaign, taste, buyer, (weight - box_weight), (weight - box_weight)/ball_number FROM measurement WHERE campaign is not 1 and taste is not 10;\n",
      "Shape of MeasurementData(record_num, n_columns) : (290, 14)\n"
     ]
    }
   ],
   "source": [
    "data = cu.get_data(db_file='../../data/choco-ball.db', filter_str=\"campaign is not 1 and taste is not 10\")\n",
    "data = data.drop(columns=['shop', 'factory'])"
   ]
  },
  {
   "cell_type": "code",
   "execution_count": 4,
   "metadata": {},
   "outputs": [],
   "source": [
    "# 銀のエンゼルのフラグデータ\n",
    "data['silver'] = [1 if a == 1 else 0 for a in data['angel'].values]\n",
    "# 金のエンゼル\n",
    "data['gold'] = [1 if a == 2 else 0 for a in data['angel'].values]\n",
    "\n",
    "# 購入者の調整\n",
    "data['buyer'] = ['ピシャイ' if a in 'ピシャイ/佐藤' else a for a in data['buyer'].values]\n"
   ]
  },
  {
   "cell_type": "code",
   "execution_count": null,
   "metadata": {},
   "outputs": [
    {
     "data": {
      "text/html": [
       "<div>\n",
       "<style scoped>\n",
       "    .dataframe tbody tr th:only-of-type {\n",
       "        vertical-align: middle;\n",
       "    }\n",
       "\n",
       "    .dataframe tbody tr th {\n",
       "        vertical-align: top;\n",
       "    }\n",
       "\n",
       "    .dataframe thead th {\n",
       "        text-align: right;\n",
       "    }\n",
       "</style>\n",
       "<table border=\"1\" class=\"dataframe\">\n",
       "  <thead>\n",
       "    <tr style=\"text-align: right;\">\n",
       "      <th></th>\n",
       "      <th>measure_date</th>\n",
       "      <th>best_before</th>\n",
       "      <th>prd_number</th>\n",
       "      <th>weight</th>\n",
       "      <th>box_weight</th>\n",
       "      <th>ball_number</th>\n",
       "      <th>angel</th>\n",
       "      <th>campaign</th>\n",
       "      <th>taste</th>\n",
       "      <th>buyer</th>\n",
       "      <th>net_weight</th>\n",
       "      <th>mean_weight</th>\n",
       "      <th>silver</th>\n",
       "      <th>gold</th>\n",
       "    </tr>\n",
       "  </thead>\n",
       "  <tbody>\n",
       "    <tr>\n",
       "      <th>0</th>\n",
       "      <td>2017-12-04</td>\n",
       "      <td>2018-02-01</td>\n",
       "      <td>BA6</td>\n",
       "      <td>34.513</td>\n",
       "      <td>4.710</td>\n",
       "      <td>16</td>\n",
       "      <td>0</td>\n",
       "      <td>2</td>\n",
       "      <td>0</td>\n",
       "      <td>根本</td>\n",
       "      <td>29.803</td>\n",
       "      <td>1.862688</td>\n",
       "      <td>0</td>\n",
       "      <td>0</td>\n",
       "    </tr>\n",
       "    <tr>\n",
       "      <th>1</th>\n",
       "      <td>2017-12-04</td>\n",
       "      <td>2018-02-01</td>\n",
       "      <td>AA6</td>\n",
       "      <td>33.644</td>\n",
       "      <td>4.731</td>\n",
       "      <td>16</td>\n",
       "      <td>0</td>\n",
       "      <td>2</td>\n",
       "      <td>0</td>\n",
       "      <td>根本</td>\n",
       "      <td>28.913</td>\n",
       "      <td>1.807062</td>\n",
       "      <td>0</td>\n",
       "      <td>0</td>\n",
       "    </tr>\n",
       "    <tr>\n",
       "      <th>2</th>\n",
       "      <td>2017-12-10</td>\n",
       "      <td>2018-09-01</td>\n",
       "      <td>CA9</td>\n",
       "      <td>31.103</td>\n",
       "      <td>4.776</td>\n",
       "      <td>15</td>\n",
       "      <td>0</td>\n",
       "      <td>2</td>\n",
       "      <td>1</td>\n",
       "      <td>時田</td>\n",
       "      <td>26.327</td>\n",
       "      <td>1.755133</td>\n",
       "      <td>0</td>\n",
       "      <td>0</td>\n",
       "    </tr>\n",
       "    <tr>\n",
       "      <th>3</th>\n",
       "      <td>2017-12-10</td>\n",
       "      <td>2018-09-01</td>\n",
       "      <td>CA9</td>\n",
       "      <td>31.477</td>\n",
       "      <td>4.767</td>\n",
       "      <td>15</td>\n",
       "      <td>0</td>\n",
       "      <td>2</td>\n",
       "      <td>1</td>\n",
       "      <td>時田</td>\n",
       "      <td>26.710</td>\n",
       "      <td>1.780667</td>\n",
       "      <td>0</td>\n",
       "      <td>0</td>\n",
       "    </tr>\n",
       "    <tr>\n",
       "      <th>4</th>\n",
       "      <td>2017-12-10</td>\n",
       "      <td>2018-09-01</td>\n",
       "      <td>CA9</td>\n",
       "      <td>31.615</td>\n",
       "      <td>4.777</td>\n",
       "      <td>15</td>\n",
       "      <td>0</td>\n",
       "      <td>2</td>\n",
       "      <td>1</td>\n",
       "      <td>時田</td>\n",
       "      <td>26.838</td>\n",
       "      <td>1.789200</td>\n",
       "      <td>0</td>\n",
       "      <td>0</td>\n",
       "    </tr>\n",
       "  </tbody>\n",
       "</table>\n",
       "</div>"
      ],
      "text/plain": [
       "  measure_date best_before prd_number  weight  box_weight  ball_number  angel  \\\n",
       "0   2017-12-04  2018-02-01        BA6  34.513       4.710           16      0   \n",
       "1   2017-12-04  2018-02-01        AA6  33.644       4.731           16      0   \n",
       "2   2017-12-10  2018-09-01        CA9  31.103       4.776           15      0   \n",
       "3   2017-12-10  2018-09-01        CA9  31.477       4.767           15      0   \n",
       "4   2017-12-10  2018-09-01        CA9  31.615       4.777           15      0   \n",
       "\n",
       "   campaign  taste buyer  net_weight  mean_weight  silver  gold  \n",
       "0         2      0    根本      29.803     1.862688       0     0  \n",
       "1         2      0    根本      28.913     1.807062       0     0  \n",
       "2         2      1    時田      26.327     1.755133       0     0  \n",
       "3         2      1    時田      26.710     1.780667       0     0  \n",
       "4         2      1    時田      26.838     1.789200       0     0  "
      ]
     },
     "execution_count": 5,
     "metadata": {},
     "output_type": "execute_result"
    }
   ],
   "source": [
    "data.head()"
   ]
  },
  {
   "cell_type": "code",
   "execution_count": null,
   "metadata": {},
   "outputs": [
    {
     "name": "stdout",
     "output_type": "stream",
     "text": [
      "       net_weight\n",
      "buyer            \n",
      "ピシャイ           80\n",
      "時田            142\n",
      "西田             59\n"
     ]
    }
   ],
   "source": [
    "# 購入者を限定する\n",
    "data = data.query('buyer in [\"ピシャイ\", \"西田\", \"時田\"]')\n",
    "\n",
    "grp = data.groupby(['buyer'])\n",
    "print(grp.count()[['net_weight']])"
   ]
  },
  {
   "cell_type": "markdown",
   "metadata": {},
   "source": [
    "# エンゼル出現確率の推定"
   ]
  },
  {
   "cell_type": "code",
   "execution_count": null,
   "metadata": {},
   "outputs": [],
   "source": [
    "name_dict = {'ピシャイ':'pichai', '時田':'tokita', '西田':'nishida'}"
   ]
  },
  {
   "cell_type": "code",
   "execution_count": null,
   "metadata": {},
   "outputs": [
    {
     "name": "stdout",
     "output_type": "stream",
     "text": [
      "Index(['ピシャイ', '時田', '西田'], dtype='object')\n",
      "{0, 1, 2}\n"
     ]
    }
   ],
   "source": [
    "buyer = data['buyer'].values\n",
    "buyer_idx = pd.Categorical(data['buyer']).codes\n",
    "buyer_cat = pd.Categorical(data['buyer']).categories\n",
    "data['buyer_idx'] = buyer_idx\n",
    "print(buyer_cat)\n",
    "print(set(buyer_idx))"
   ]
  },
  {
   "cell_type": "code",
   "execution_count": null,
   "metadata": {},
   "outputs": [
    {
     "name": "stdout",
     "output_type": "stream",
     "text": [
      "total_count : [ 80 142  59]\n",
      "angel_count : [5 6 2]\n"
     ]
    }
   ],
   "source": [
    "total_counts = data.groupby(['buyer_idx']).count()['silver'].values\n",
    "angel_counts = data.query('silver > 0').groupby(['buyer_idx']).count()['silver'].values\n",
    "\n",
    "print('total_count : {}'.format(total_counts))\n",
    "print('angel_count : {}'.format(angel_counts))\n"
   ]
  },
  {
   "cell_type": "code",
   "execution_count": null,
   "metadata": {},
   "outputs": [
    {
     "name": "stdout",
     "output_type": "stream",
     "text": [
      "max_theta : 0.05050505050505051\n"
     ]
    },
    {
     "data": {
      "image/png": "[encoded data removed]",
      "text/plain": [
       "<Figure size 432x288 with 1 Axes>"
      ]
     },
     "metadata": {},
     "output_type": "display_data"
    }
   ],
   "source": [
    "# 事前分布の形確認\n",
    "(a, b) = (2.0, 20.0)\n",
    "\n",
    "x = np.linspace(0, 1, 100)\n",
    "y = stats.beta(a, b).pdf(x)\n",
    "plt.plot(x, y)\n",
    "plt.vlines(x=x[y.argmax()], ymin=0, ymax=max(y), colors='red')\n",
    "print('max_theta : {}'.format(x[y.argmax()]))"
   ]
  },
  {
   "cell_type": "code",
   "execution_count": null,
   "metadata": {},
   "outputs": [
    {
     "name": "stderr",
     "output_type": "stream",
     "text": [
      "Auto-assigning NUTS sampler...\n",
      "Initializing NUTS using jitter+adapt_diag...\n",
      "Sequential sampling (1 chains in 1 job)\n",
      "NUTS: [theta]\n",
      "100%|██████████| 5500/5500 [00:03<00:00, 1377.31it/s]\n",
      "Only one chain was sampled, this makes it impossible to run some convergence checks\n"
     ]
    },
    {
     "data": {
      "text/plain": [
       "array([[<matplotlib.axes._subplots.AxesSubplot object at 0x12bf61400>,\n",
       "        <matplotlib.axes._subplots.AxesSubplot object at 0x12bf2e400>]],\n",
       "      dtype=object)"
      ]
     },
     "execution_count": 11,
     "metadata": {},
     "output_type": "execute_result"
    }
   ],
   "source": [
    "with pm.Model() as comparing_buyer_i:\n",
    "    #theta = pm.Beta('theta', alpha=1, beta=1, shape=len(set(buyer_idx))) # 一様分布\n",
    "    theta = pm.Beta('theta', alpha=2, beta=20, shape=len(set(buyer_idx)))\n",
    "    \n",
    "    angel = pm.Binomial('angel', n=total_counts[buyer_idx], p=theta[buyer_idx], observed=angel_counts[buyer_idx])\n",
    "    \n",
    "    trace = pm.sample(5000, chains=1)\n",
    "pm.traceplot(trace)"
   ]
  },
  {
   "cell_type": "code",
   "execution_count": null,
   "metadata": {},
   "outputs": [],
   "source": [
    "fig = plt.figure(figsize=(8, 4))\n",
    "ax = fig.subplots(1, 1)\n",
    "\n",
    "for i in np.arange(len(buyer_cat)):\n",
    "    sns.distplot(trace['theta'][:,i], label=name_dict[buyer_cat[i]], ax=ax)\n",
    "ax.legend()\n",
    "ax.set_xlabel('angel rate')\n",
    "ax.set_ylabel('frequent')\n",
    "plt.savefig('buyer_effect.png')"
   ]
  },
  {
   "cell_type": "code",
   "execution_count": null,
   "metadata": {},
   "outputs": [],
   "source": []
  }
 ],
 "metadata": {
  "kernelspec": {
   "display_name": "Python 3",
   "language": "python",
   "name": "python3"
  },
  "language_info": {
   "codemirror_mode": {
    "name": "ipython",
    "version": 3
   },
   "file_extension": ".py",
   "mimetype": "text/x-python",
   "name": "python",
   "nbconvert_exporter": "python",
   "pygments_lexer": "ipython3",
   "version": "3.7.0"
  }
 },
 "nbformat": 4,
 "nbformat_minor": 2
}
