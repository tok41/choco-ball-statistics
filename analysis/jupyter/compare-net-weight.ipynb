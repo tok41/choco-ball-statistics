{
 "cells": [
  {
   "cell_type": "markdown",
   "metadata": {},
   "source": [
    "# 目的：チョコボールの商品別の重量比較\n",
    "## アプローチ\n",
    "- 正味重量をベイズ推定し、その傾向の違いを比較する\n",
    "\n",
    "## モデル\n",
    "- 重量分布は正規分布であると仮定する\n",
    "- 事前分布は平均が仕様の正規分布とする（分散を大きくして一様分布みたいなものとする）"
   ]
  },
  {
   "cell_type": "code",
   "execution_count": 1,
   "metadata": {},
   "outputs": [],
   "source": [
    "import sys, os\n",
    "import sqlite3\n",
    "import numpy as np\n",
    "import pandas as pd\n",
    "import scipy.stats as stats\n",
    "\n",
    "%matplotlib inline\n",
    "import matplotlib.pyplot as plt\n",
    "\n",
    "import pymc as pm\n",
    "\n",
    "import ChocoUtils as cu"
   ]
  },
  {
   "cell_type": "markdown",
   "metadata": {},
   "source": [
    "# データをロードする\n",
    "- mysqlに貯めているデータをロード\n",
    "- ヒストグラムを描画してみる"
   ]
  },
  {
   "cell_type": "code",
   "execution_count": 2,
   "metadata": {
    "scrolled": false
   },
   "outputs": [
    {
     "name": "stdout",
     "output_type": "stream",
     "text": [
      "SELECT measure_date, best_before, prd_number, weight, box_weight, ball_number, factory, shop, angel, campaign, taste, buyer, (weight - box_weight), (weight - box_weight)/ball_number FROM measurement WHERE taste in (0, 1, 4, 7, 10);\n",
      "Shape of MeasurementData(record_num, n_columns) : (301, 14)\n"
     ]
    },
    {
     "data": {
      "text/html": [
       "<div>\n",
       "<style scoped>\n",
       "    .dataframe tbody tr th:only-of-type {\n",
       "        vertical-align: middle;\n",
       "    }\n",
       "\n",
       "    .dataframe tbody tr th {\n",
       "        vertical-align: top;\n",
       "    }\n",
       "\n",
       "    .dataframe thead th {\n",
       "        text-align: right;\n",
       "    }\n",
       "</style>\n",
       "<table border=\"1\" class=\"dataframe\">\n",
       "  <thead>\n",
       "    <tr style=\"text-align: right;\">\n",
       "      <th></th>\n",
       "      <th>weight</th>\n",
       "    </tr>\n",
       "    <tr>\n",
       "      <th>taste</th>\n",
       "      <th></th>\n",
       "    </tr>\n",
       "  </thead>\n",
       "  <tbody>\n",
       "    <tr>\n",
       "      <th>0</th>\n",
       "      <td>257</td>\n",
       "    </tr>\n",
       "    <tr>\n",
       "      <th>1</th>\n",
       "      <td>13</td>\n",
       "    </tr>\n",
       "    <tr>\n",
       "      <th>4</th>\n",
       "      <td>10</td>\n",
       "    </tr>\n",
       "    <tr>\n",
       "      <th>7</th>\n",
       "      <td>10</td>\n",
       "    </tr>\n",
       "    <tr>\n",
       "      <th>10</th>\n",
       "      <td>11</td>\n",
       "    </tr>\n",
       "  </tbody>\n",
       "</table>\n",
       "</div>"
      ],
      "text/plain": [
       "       weight\n",
       "taste        \n",
       "0         257\n",
       "1          13\n",
       "4          10\n",
       "7          10\n",
       "10         11"
      ]
     },
     "execution_count": 2,
     "metadata": {},
     "output_type": "execute_result"
    }
   ],
   "source": [
    "#data = cu.get_data(db_file='../../data/choco-ball.db', filter_str=\"taste in (0, 10)\")\n",
    "data = cu.get_data(db_file='../../data/choco-ball.db', filter_str=\"taste in (0, 1, 4, 7, 10)\")\n",
    "#data = cu.get_data(db_file='../../data/choco-ball.db')\n",
    "grp = data.groupby(['taste'])\n",
    "grp.count()[['weight']]"
   ]
  },
  {
   "cell_type": "markdown",
   "metadata": {},
   "source": [
    "# 基礎集計"
   ]
  },
  {
   "cell_type": "markdown",
   "metadata": {},
   "source": [
    "## ヒストグラム"
   ]
  },
  {
   "cell_type": "code",
   "execution_count": 3,
   "metadata": {},
   "outputs": [],
   "source": [
    "# 仕様の重量\n",
    "spec = {0:28.0, 1:25.0, 4:22.0, 7:26.0, 10:22.0}\n",
    "taste_name = {0:\"peanut\", 1:\"strawberry\", 4:\"ama-zake\", 7:\"pachi-pachi\", 10:\"pineapple\"}"
   ]
  },
  {
   "cell_type": "code",
   "execution_count": 4,
   "metadata": {},
   "outputs": [
    {
     "data": {
      "text/plain": [
       "<matplotlib.legend.Legend at 0x7fcdfa31ae80>"
      ]
     },
     "execution_count": 4,
     "metadata": {},
     "output_type": "execute_result"
    },
    {
     "data": {
      "image/png": "[encoded data removed]",
      "text/plain": [
       "<Figure size 1152x288 with 2 Axes>"
      ]
     },
     "metadata": {},
     "output_type": "display_data"
    }
   ],
   "source": [
    "fig = plt.figure(figsize=(16, 4))\n",
    "ax = fig.subplots(1, 2)\n",
    "\n",
    "bins = np.linspace(0, 5.0, 30)\n",
    "for key, value in grp:\n",
    "    ax[0].hist(value[\"net_weight\"], density = True, \n",
    "               alpha=0.5, edgecolor=\"#000000\", lw=1, label=taste_name[key])\n",
    "    ax[1].hist((value[\"net_weight\"] - spec[key]), density = True, \n",
    "               bins=bins, alpha=0.5, edgecolor=\"#000000\", lw=1, label=taste_name[key])\n",
    "ax[0].legend()\n",
    "ax[1].legend()"
   ]
  },
  {
   "cell_type": "code",
   "execution_count": 5,
   "metadata": {},
   "outputs": [
    {
     "data": {
      "text/plain": [
       "<matplotlib.legend.Legend at 0x7fcdf9f68f60>"
      ]
     },
     "execution_count": 5,
     "metadata": {},
     "output_type": "execute_result"
    },
    {
     "data": {
      "image/png": "[encoded data removed]",
      "text/plain": [
       "<Figure size 360x288 with 1 Axes>"
      ]
     },
     "metadata": {},
     "output_type": "display_data"
    }
   ],
   "source": [
    "fig = plt.figure(figsize=(5, 4))\n",
    "ax = fig.subplots(1, 1)\n",
    "\n",
    "bins = np.arange(13, 22, 1)\n",
    "for key, value in grp:\n",
    "    ax.hist(value[\"ball_number\"], density = True, bins=bins, \n",
    "            alpha=0.5, edgecolor=\"#000000\", lw=1, label=taste_name[key])\n",
    "ax.legend()\n"
   ]
  },
  {
   "cell_type": "markdown",
   "metadata": {},
   "source": [
    "# 正規分布のパラメータを予測"
   ]
  },
  {
   "cell_type": "markdown",
   "metadata": {},
   "source": [
    "## MCMCによるベイズ推定\n",
    "### モデルの設定"
   ]
  },
  {
   "cell_type": "code",
   "execution_count": 6,
   "metadata": {},
   "outputs": [],
   "source": [
    "def getEstimatedWeightDist(values, spec, n_sample=15000, n_burn=5000):\n",
    "    # 精度$\\tau$(分散の逆数)\n",
    "    tau = 1.0 / pm.Uniform(\"std\", 0, 100)**2\n",
    "    # 分布の中心\n",
    "    ## 事前分布の中心として製品仕様を、tauを0.01(分散=100)\n",
    "    center = pm.Normal(\"center\", spec, 0.01)\n",
    "    # 観測とモデルを結びつける\n",
    "    observations = pm.Normal(\"obs\", center, tau, value=values, observed=True)\n",
    "    # Modelオブジェクト生成\n",
    "    model = pm.Model([tau, center])\n",
    "    \n",
    "    # MCMC\n",
    "    mcmc = pm.MCMC(model)\n",
    "    mcmc.sample(n_sample, n_burn)\n",
    "    \n",
    "    return mcmc.trace(\"center\")[:], mcmc.trace(\"std\")[:]"
   ]
  },
  {
   "cell_type": "code",
   "execution_count": 7,
   "metadata": {},
   "outputs": [
    {
     "name": "stdout",
     "output_type": "stream",
     "text": [
      " [-----------------100%-----------------] 15000 of 15000 complete in 1.3 sec"
     ]
    },
    {
     "data": {
      "text/plain": [
       "<matplotlib.legend.Legend at 0x7fcdf9ff9a90>"
      ]
     },
     "execution_count": 7,
     "metadata": {},
     "output_type": "execute_result"
    },
    {
     "data": {
      "image/png": "[encoded data removed]",
      "text/plain": [
       "<Figure size 1152x288 with 2 Axes>"
      ]
     },
     "metadata": {},
     "output_type": "display_data"
    }
   ],
   "source": [
    "fig = plt.figure(figsize=(16, 4))\n",
    "ax = fig.subplots(1, 2)\n",
    "\n",
    "bins = np.linspace(0, 3.0, 100)\n",
    "bins_p = np.linspace(22.0, 30.0, 100)\n",
    "for key, value in grp:\n",
    "    e_center, e_std = getEstimatedWeightDist(values=value['net_weight'].values, spec=spec[key])\n",
    "    ax[0].hist(e_center, bins=bins_p, alpha=0.5, edgecolor=\"#000000\", lw=1, label=taste_name[key])\n",
    "    ax[1].hist((e_center-spec[key]), bins=bins, alpha=0.5, edgecolor=\"#000000\", lw=1, label=taste_name[key])\n",
    "ax[0].set_title('estimated weight dist.')\n",
    "ax[1].set_title('estimated weight dist. (spec=0)')\n",
    "ax[0].legend()\n",
    "ax[1].legend()\n"
   ]
  },
  {
   "cell_type": "code",
   "execution_count": null,
   "metadata": {},
   "outputs": [],
   "source": []
  }
 ],
 "metadata": {
  "kernelspec": {
   "display_name": "Python 3",
   "language": "python",
   "name": "python3"
  },
  "language_info": {
   "codemirror_mode": {
    "name": "ipython",
    "version": 3
   },
   "file_extension": ".py",
   "mimetype": "text/x-python",
   "name": "python",
   "nbconvert_exporter": "python",
   "pygments_lexer": "ipython3",
   "version": "3.6.4"
  },
  "toc": {
   "base_numbering": 1,
   "nav_menu": {},
   "number_sections": true,
   "sideBar": true,
   "skip_h1_title": false,
   "title_cell": "Table of Contents",
   "title_sidebar": "Contents",
   "toc_cell": false,
   "toc_position": {},
   "toc_section_display": "block",
   "toc_window_display": false
  }
 },
 "nbformat": 4,
 "nbformat_minor": 2
}
