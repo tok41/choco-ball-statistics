{
 "cells": [
  {
   "cell_type": "markdown",
   "metadata": {},
   "source": [
    "# 目的\n",
    "- エンゼルの出現確率を予測する\n",
    "- 事前分布にβ分布を用いたバージョン"
   ]
  },
  {
   "cell_type": "code",
   "execution_count": 1,
   "metadata": {},
   "outputs": [],
   "source": [
    "import sys, os\n",
    "import sqlite3\n",
    "import numpy as np\n",
    "import pandas as pd\n",
    "\n",
    "%matplotlib inline\n",
    "import matplotlib.pyplot as plt\n",
    "\n",
    "from datetime import datetime as dt\n",
    "\n",
    "import pymc as pm\n",
    "import scipy.stats as stats\n"
   ]
  },
  {
   "cell_type": "markdown",
   "metadata": {},
   "source": [
    "# データの取得\n",
    "- データはDB（sqlite）に保存されている\n",
    "    - テーブル定義は、ブログに載っている通り"
   ]
  },
  {
   "cell_type": "code",
   "execution_count": 2,
   "metadata": {},
   "outputs": [
    {
     "name": "stdout",
     "output_type": "stream",
     "text": [
      "Shape of MeasurementData(record_num, n_columns) : (85, 13)\n"
     ]
    }
   ],
   "source": [
    "def get_data(db_file='../data/choco-ball.db', table_name='measurement', filter_str=None):\n",
    "    \"\"\"\n",
    "    dbファイルから計測データを取得する\n",
    "    \n",
    "    TODO:\n",
    "        エラー処理を入れる\n",
    "    \"\"\"\n",
    "    con = sqlite3.connect(db_file)\n",
    "    sql = 'SELECT '\n",
    "    sql += 'measure_date,best_before,prd_number,weight,box_weight,ball_number,factory,shop,angel,campaign,taste '\n",
    "    sql += ', (weight - box_weight), (weight - box_weight)/ball_number '\n",
    "    sql += 'FROM ' + table_name + ' '\n",
    "    if filter_str is not None:\n",
    "        sql += 'WHERE ' + filter_str\n",
    "    sql += ';'\n",
    "    sql_result = con.execute(sql)\n",
    "    res = sql_result.fetchall()\n",
    "    con.close()\n",
    "    data = pd.DataFrame(res, columns=['measure_date','best_before','prd_number','weight','box_weight','ball_number','factory','shop','angel','campaign','taste','net_weight','mean_weight'])\n",
    "    print 'Shape of MeasurementData(record_num, n_columns) : {}'.format(data.shape)\n",
    "    return data\n",
    "data = get_data(filter_str='campaign=1')"
   ]
  },
  {
   "cell_type": "markdown",
   "metadata": {},
   "source": [
    "# エンゼル出現確率予測\n",
    "## 最尤推定"
   ]
  },
  {
   "cell_type": "code",
   "execution_count": 3,
   "metadata": {},
   "outputs": [
    {
     "name": "stdout",
     "output_type": "stream",
     "text": [
      "angel rate(freq):0.024\n"
     ]
    }
   ],
   "source": [
    "# 最尤推定量\n",
    "data_angel = data['angel'].values\n",
    "p_MLE = data_angel.mean()\n",
    "print 'angel rate(freq):%.3f'%(p_MLE)"
   ]
  },
  {
   "cell_type": "markdown",
   "metadata": {},
   "source": [
    "## ベイズ推定"
   ]
  },
  {
   "cell_type": "markdown",
   "metadata": {},
   "source": [
    "### モデル\n",
    "- データ過程：ベルヌーイ分布（確率pで事象が発生し、(1-p)で発生しない）\n",
    "- 事前分布：一様分布（0~1の実数を取る分布）"
   ]
  },
  {
   "cell_type": "code",
   "execution_count": 6,
   "metadata": {},
   "outputs": [
    {
     "data": {
      "text/plain": [
       "(75,)"
      ]
     },
     "execution_count": 6,
     "metadata": {},
     "output_type": "execute_result"
    }
   ],
   "source": [
    "data_angel = data_angel[:75]\n",
    "data_angel.shape"
   ]
  },
  {
   "cell_type": "code",
   "execution_count": 7,
   "metadata": {},
   "outputs": [
    {
     "name": "stdout",
     "output_type": "stream",
     "text": [
      " [-----------------100%-----------------] 15000 of 15000 complete in 0.7 sec"
     ]
    }
   ],
   "source": [
    "# 出現確率pの事前分布\n",
    "p = pm.Beta('p', alpha=1, beta=1)\n",
    "#p = pm.Uniform('p', lower=0, upper=1)\n",
    "# 観測を結びつける\n",
    "obs = pm.Bernoulli('obs', p, value=data_angel, observed=True)\n",
    "\n",
    "# MCMC\n",
    "# Modelオブジェクト生成\n",
    "model = pm.Model([p, obs])\n",
    "mcmc = pm.MCMC(model)\n",
    "mcmc.sample(15000, 5000)"
   ]
  },
  {
   "cell_type": "code",
   "execution_count": 8,
   "metadata": {},
   "outputs": [
    {
     "data": {
      "text/plain": [
       "Text(0.5,1,u'observation number = 75')"
      ]
     },
     "execution_count": 8,
     "metadata": {},
     "output_type": "execute_result"
    },
    {
     "data": {
      "image/png": "[encoded data removed]",
      "text/plain": [
       "<matplotlib.figure.Figure at 0x7efc94273d10>"
      ]
     },
     "metadata": {},
     "output_type": "display_data"
    }
   ],
   "source": [
    "p_trace = mcmc.trace('p')[:]\n",
    "ret = plt.hist(p_trace, bins=np.linspace(0, 0.1, 100), normed=True,\n",
    "               color=\"#0000FF\", alpha=0.5, edgecolor=\"#0000FF\", lw=2)\n",
    "#plt.xlim([0, 0.5])\n",
    "N = len(p_trace)\n",
    "bci_g = np.sort(p_trace)[int(N * 0.95)]\n",
    "bci_l = np.sort(p_trace)[int(N * 0.05)]\n",
    "plt.vlines(x=bci_g, ymin=0, ymax=ret[0].max(),\n",
    "           label='90% BayesCredibleInterval',\n",
    "           color='red', linestyles='--', linewidths=2)\n",
    "plt.vlines(x=bci_l, ymin=0, ymax=ret[0].max(),\n",
    "           color='red', linestyles='--', linewidths=2)\n",
    "plt.legend(loc=\"upper right\")\n",
    "plt.title('observation number = %d' % (len(data_angel)))\n"
   ]
  },
  {
   "cell_type": "code",
   "execution_count": 9,
   "metadata": {},
   "outputs": [
    {
     "name": "stdout",
     "output_type": "stream",
     "text": [
      "0.0129325642891\n"
     ]
    }
   ],
   "source": [
    "print p_trace.mean()"
   ]
  },
  {
   "cell_type": "markdown",
   "metadata": {},
   "source": [
    "### 事前分布に先人の知恵を導入\n",
    "- 「チョコボール 確率 金」で検索してヒットしたブログを集計し、事前分布を出す\n",
    "- [【1,000箱目】森永チョコボール 金・銀のエンゼルが出る確率を出す(鳥取の社長日記)](http://blog.livedoor.jp/remsy/archives/51931218.html)\n",
    "    - 1000箱で１個（銀は1000箱で36個）\n",
    "- [ヒカルが検証！　チョコボールで金のエンゼルが当たる確率は？（YouTuberのネタ宝庫　アイデア＆アイテム集結）](http://www.youtuber-item.com/entry/2017/01/19/212219)\n",
    "    - 有名Youtuberさんが集計した結果を転載するブログ\n",
    "    - 1000箱で2個（銀は1000箱で40個）\n",
    "- [９１５分の１って！「月曜から夜ふかし」が金のエンゼルが出る確率を検証した結果](http://mystock-abc.xyz/?p=476)\n",
    "    - テレビ番組の企画での集計\n",
    "    - 915箱で1個\n",
    "- 全ての期間、味でエンゼルの出現確率が一定であると仮定する\n",
    "    - (1+2+1)/(1000+1000+915)=4/2915=0.0014(0.14%)"
   ]
  },
  {
   "cell_type": "markdown",
   "metadata": {},
   "source": [
    "β分布の期待値=a/(a+b)"
   ]
  },
  {
   "cell_type": "code",
   "execution_count": null,
   "metadata": {},
   "outputs": [],
   "source": [
    "x = np.linspace(0.0, 0.999, 1000)\n",
    "y = stats.beta.pdf(x, 4, 2911)\n",
    "plt.plot(x, y)\n",
    "pd.DataFrame({'x':x, 'y':y}).sort_values(by=['y'], ascending=False)[:3]"
   ]
  },
  {
   "cell_type": "code",
   "execution_count": null,
   "metadata": {},
   "outputs": [],
   "source": [
    "# 出現確率pの事前分布\n",
    "p = pm.Beta('p', alpha=4, beta=2915)\n",
    "# 観測を結びつける\n",
    "obs = pm.Bernoulli('obs', p, value=data_angel, observed=True)\n",
    "\n",
    "# MCMC\n",
    "# Modelオブジェクト生成\n",
    "model = pm.Model([p, obs])\n",
    "mcmc = pm.MCMC(model)\n",
    "mcmc.sample(15000, 5000)"
   ]
  },
  {
   "cell_type": "code",
   "execution_count": null,
   "metadata": {},
   "outputs": [],
   "source": [
    "p_trace = mcmc.trace('p')[:]\n",
    "ret = plt.hist(p_trace, bins=np.linspace(0, 0.01, 100), normed=True, \n",
    "               color=\"#0000FF\", alpha=0.5, edgecolor=\"#0000FF\", lw=2)\n",
    "plt.vlines(x=0.0014, ymin=0, ymax=ret[0].max(), \n",
    "           colors='#FF0000', linewidths=2, label='prior') # 初期分布の最大値\n",
    "\n",
    "N = len(p_trace)\n",
    "bci_g = np.sort(p_trace)[int(N * 0.95)]\n",
    "bci_l = np.sort(p_trace)[int(N * 0.05)]\n",
    "plt.vlines(x=bci_g, ymin=0, ymax=ret[0].max(),\n",
    "           label='90% BayesCredibleInterval',\n",
    "           color='red', linestyles='--', linewidths=2)\n",
    "plt.vlines(x=bci_l, ymin=0, ymax=ret[0].max(),\n",
    "           color='red', linestyles='--', linewidths=2)\n",
    "plt.legend(loc=\"upper right\")\n",
    "\n",
    "print 'estimated p : {}'.format(p_trace.mean())"
   ]
  },
  {
   "cell_type": "code",
   "execution_count": null,
   "metadata": {},
   "outputs": [],
   "source": []
  },
  {
   "cell_type": "code",
   "execution_count": null,
   "metadata": {},
   "outputs": [],
   "source": [
    "# 確率pで成功する事象がk回の試行で成功する確率 → 幾何分布\n",
    "z = np.random.geometric(p=0.0014, size=10000)\n",
    "plt.hist(z)"
   ]
  },
  {
   "cell_type": "code",
   "execution_count": null,
   "metadata": {},
   "outputs": [],
   "source": [
    "from scipy.stats import geom\n",
    "fig, ax = plt.subplots(1, 1)\n",
    "p = 0.001\n",
    "\n",
    "x = np.arange(geom.ppf(0.01, p),\n",
    "              geom.ppf(0.99, p))\n",
    "ax.plot(x, geom.pmf(x, p), 'bo', ms=8, label='geom pmf')\n",
    "ax.vlines(x, 0, geom.pmf(x, p), colors='b', lw=5, alpha=0.5)\n",
    "\n",
    "rv = geom(p)\n",
    "ax.vlines(x, 0, rv.pmf(x), colors='k', linestyles='-', lw=1,\n",
    "          label='frozen pmf')\n",
    "ax.legend(loc='best', frameon=False)\n",
    "plt.show()"
   ]
  },
  {
   "cell_type": "code",
   "execution_count": null,
   "metadata": {},
   "outputs": [],
   "source": [
    "p = 0.1\n",
    "x = np.linspace(1, 100)\n",
    "plt.plot(x, geom.pmf(x, p))"
   ]
  },
  {
   "cell_type": "code",
   "execution_count": null,
   "metadata": {},
   "outputs": [],
   "source": [
    "ret = plt.hist(geom.rvs(p=0.001, size=1000), bins=100)"
   ]
  },
  {
   "cell_type": "code",
   "execution_count": null,
   "metadata": {},
   "outputs": [],
   "source": [
    "x = np.linspace(1, 5000)\n",
    "plt.plot(x, geom.cdf(k=x, p=0.001))"
   ]
  },
  {
   "cell_type": "code",
   "execution_count": null,
   "metadata": {},
   "outputs": [],
   "source": []
  }
 ],
 "metadata": {
  "kernelspec": {
   "display_name": "Python 3",
   "language": "python",
   "name": "python3"
  },
  "language_info": {
   "codemirror_mode": {
    "name": "ipython",
    "version": 3
   },
   "file_extension": ".py",
   "mimetype": "text/x-python",
   "name": "python",
   "nbconvert_exporter": "python",
   "pygments_lexer": "ipython3",
   "version": "3.6.4"
  },
  "toc": {
   "nav_menu": {},
   "number_sections": true,
   "sideBar": true,
   "skip_h1_title": false,
   "toc_cell": false,
   "toc_position": {},
   "toc_section_display": "block",
   "toc_window_display": false
  }
 },
 "nbformat": 4,
 "nbformat_minor": 2
}
