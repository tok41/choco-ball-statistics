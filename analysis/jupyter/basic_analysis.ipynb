{
 "cells": [
  {
   "cell_type": "markdown",
   "metadata": {},
   "source": [
    "# 目的\n",
    "- 基礎的な集計をする"
   ]
  },
  {
   "cell_type": "code",
   "execution_count": 1,
   "metadata": {},
   "outputs": [],
   "source": [
    "import sys, os\n",
    "import sqlite3\n",
    "import numpy as np\n",
    "import pandas as pd\n",
    "import scipy.stats as stats\n",
    "\n",
    "%matplotlib inline\n",
    "import matplotlib.pyplot as plt\n",
    "\n",
    "import ChocoUtils as util\n",
    "\n",
    "from datetime import datetime as dt"
   ]
  },
  {
   "cell_type": "markdown",
   "metadata": {},
   "source": [
    "# データの取得"
   ]
  },
  {
   "cell_type": "markdown",
   "metadata": {},
   "source": [
    "# 基礎集計"
   ]
  },
  {
   "cell_type": "code",
   "execution_count": 2,
   "metadata": {},
   "outputs": [],
   "source": [
    "def output_hist(data, plt_file, min_range=27.0, max_range=31.0, step=0.1, spec=28.0):\n",
    "    b = np.arange(min_range, max_range, step)\n",
    "    ret = plt.hist(data['net_weight'], \n",
    "                   bins=b, color=\"#0000FF\", alpha=0.5, edgecolor=\"#0000FF\", \n",
    "                   label='measure', normed=True)\n",
    "    plt.vlines(x=spec, ymin=0, ymax=ret[0].max(), \n",
    "               colors='#FF0000', linewidths=2, label='spec')\n",
    "    # 最尤推定パラメータの分布\n",
    "    x = np.linspace(min_range, max_range, 300)\n",
    "    y = stats.norm.pdf(x, loc=data['net_weight'].mean(), scale=data['net_weight'].std())\n",
    "    plt.plot(x, y, lw=3, color='#0000FF', label='MLE')\n",
    "    plt.legend()\n",
    "    plt.xlabel('net weight [g]')\n",
    "    plt.ylabel('frequency')\n",
    "    #plt.savefig(plt_file)\n",
    "    print('save_figure : {}'.format(plt_file))"
   ]
  },
  {
   "cell_type": "code",
   "execution_count": 3,
   "metadata": {},
   "outputs": [],
   "source": [
    "def main():\n",
    "    db_file = '../../data/choco-ball.db'\n",
    "    table_name = 'measurement'\n",
    "    filter_str = 'taste=0'\n",
    "    # 計測データ取得\n",
    "    m_data = util.get_data(db_file=db_file, table_name=table_name, filter_str=filter_str)\n",
    "    # ファイル名のラベルのために日付を取得\n",
    "    t_str = util.get_date_str()\n",
    "    # データ集計\n",
    "    output_hist(data=m_data, plt_file='fig/base_hist_{}.png'.format(t_str), min_range=27,max_range=31, spec=28)\n",
    "    # 表示用\n",
    "    print('| 計測データ数 | {} |'.format(m_data.shape[0]))\n",
    "    print('| 銀のエンゼル出現数 | {} |'.format((m_data['angel']==1).sum()))\n",
    "    print('| 金のエンゼル出現数 | {} |'.format((m_data['angel']==2).sum()))\n",
    "    print('| 正味重量 | %2.3f | %2.3f | %2.3f | %2.3f |' % (\n",
    "        (m_data['net_weight']).min(), (m_data['net_weight']).median(), \n",
    "        (m_data['net_weight']).max(), (m_data['net_weight']).mean()))\n",
    "    print('| 個数 | %2.3f | %2.3f | %2.3f | %2.3f |' % (\n",
    "        (m_data['ball_number']).min(), (m_data['ball_number']).median(), \n",
    "        (m_data['ball_number']).max(), (m_data['ball_number']).mean()))\n",
    "    return m_data"
   ]
  },
  {
   "cell_type": "code",
   "execution_count": 4,
   "metadata": {},
   "outputs": [
    {
     "name": "stdout",
     "output_type": "stream",
     "text": [
      "SELECT measure_date, best_before, prd_number, weight, box_weight, ball_number, factory, shop, angel, campaign, taste, buyer, (weight - box_weight), (weight - box_weight)/ball_number FROM measurement WHERE taste=0;\n",
      "Shape of MeasurementData(record_num, n_columns) : (309, 14)\n",
      "save_figure : fig/base_hist_2018-12-24.png\n",
      "| 計測データ数 | 309 |\n",
      "| 銀のエンゼル出現数 | 10 |\n",
      "| 金のエンゼル出現数 | 1 |\n",
      "| 正味重量 | 28.750 | 29.389 | 32.232 | 29.495 |\n",
      "| 個数 | 14.000 | 17.000 | 20.000 | 16.573 |\n"
     ]
    },
    {
     "name": "stderr",
     "output_type": "stream",
     "text": [
      "/Users/tok41/workspace/choco-ball-statistics/env_choco/lib/python3.7/site-packages/matplotlib/axes/_axes.py:6521: MatplotlibDeprecationWarning: \n",
      "The 'normed' kwarg was deprecated in Matplotlib 2.1 and will be removed in 3.1. Use 'density' instead.\n",
      "  alternative=\"'density'\", removal=\"3.1\")\n"
     ]
    },
    {
     "data": {
      "image/png": "[encoded data removed]",
      "text/plain": [
       "<Figure size 432x288 with 1 Axes>"
      ]
     },
     "metadata": {
      "needs_background": "light"
     },
     "output_type": "display_data"
    }
   ],
   "source": [
    "data = main()"
   ]
  },
  {
   "cell_type": "code",
   "execution_count": null,
   "metadata": {},
   "outputs": [],
   "source": []
  }
 ],
 "metadata": {
  "kernelspec": {
   "display_name": "Python 3",
   "language": "python",
   "name": "python3"
  },
  "language_info": {
   "codemirror_mode": {
    "name": "ipython",
    "version": 3
   },
   "file_extension": ".py",
   "mimetype": "text/x-python",
   "name": "python",
   "nbconvert_exporter": "python",
   "pygments_lexer": "ipython3",
   "version": "3.7.0"
  },
  "toc": {
   "base_numbering": 1,
   "nav_menu": {},
   "number_sections": true,
   "sideBar": true,
   "skip_h1_title": false,
   "title_cell": "Table of Contents",
   "title_sidebar": "Contents",
   "toc_cell": false,
   "toc_position": {},
   "toc_section_display": "block",
   "toc_window_display": false
  }
 },
 "nbformat": 4,
 "nbformat_minor": 2
}
