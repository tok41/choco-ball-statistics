{
 "cells": [
  {
   "cell_type": "markdown",
   "metadata": {},
   "source": [
    "# 目的\n",
    "- 購入者の効果、貢献度を評価する"
   ]
  },
  {
   "cell_type": "code",
   "execution_count": 1,
   "metadata": {},
   "outputs": [],
   "source": [
    "import sys, os\n",
    "import sqlite3\n",
    "import numpy as np\n",
    "import pandas as pd\n",
    "\n",
    "%matplotlib inline\n",
    "import matplotlib.pyplot as plt\n",
    "import seaborn as sns\n",
    "\n",
    "from datetime import datetime as dt\n",
    "\n",
    "import ChocoUtils as util"
   ]
  },
  {
   "cell_type": "code",
   "execution_count": 2,
   "metadata": {},
   "outputs": [],
   "source": [
    "# jupyterの日本語設定\n",
    "import matplotlib\n",
    "from matplotlib.font_manager import FontProperties\n",
    "\n",
    "font_path = '/usr/share/fonts/truetype/takao-gothic/TakaoPGothic.ttf' #ubuntu\n",
    "#font_path = '/System/Library/Fonts/Hiragino Sans GB.ttc' #mac\n",
    "font_prop = FontProperties(fname=font_path)\n",
    "matplotlib.rcParams['font.family'] = font_prop.get_name()"
   ]
  },
  {
   "cell_type": "markdown",
   "metadata": {},
   "source": [
    "# データロード"
   ]
  },
  {
   "cell_type": "code",
   "execution_count": 3,
   "metadata": {},
   "outputs": [
    {
     "name": "stdout",
     "output_type": "stream",
     "text": [
      "SELECT measure_date, best_before, prd_number, weight, box_weight, ball_number, factory, shop, angel, campaign, taste, buyer, (weight - box_weight), (weight - box_weight)/ball_number FROM measurement WHERE campaign is not 1 or campaign is 1;\n",
      "Shape of MeasurementData(record_num, n_columns) : (411, 14)\n"
     ]
    },
    {
     "data": {
      "text/html": [
       "<div>\n",
       "<style scoped>\n",
       "    .dataframe tbody tr th:only-of-type {\n",
       "        vertical-align: middle;\n",
       "    }\n",
       "\n",
       "    .dataframe tbody tr th {\n",
       "        vertical-align: top;\n",
       "    }\n",
       "\n",
       "    .dataframe thead th {\n",
       "        text-align: right;\n",
       "    }\n",
       "</style>\n",
       "<table border=\"1\" class=\"dataframe\">\n",
       "  <thead>\n",
       "    <tr style=\"text-align: right;\">\n",
       "      <th></th>\n",
       "      <th>measure_date</th>\n",
       "      <th>best_before</th>\n",
       "      <th>prd_number</th>\n",
       "      <th>weight</th>\n",
       "      <th>box_weight</th>\n",
       "      <th>ball_number</th>\n",
       "      <th>factory</th>\n",
       "      <th>angel</th>\n",
       "      <th>campaign</th>\n",
       "      <th>taste</th>\n",
       "      <th>buyer</th>\n",
       "      <th>net_weight</th>\n",
       "      <th>mean_weight</th>\n",
       "    </tr>\n",
       "  </thead>\n",
       "  <tbody>\n",
       "    <tr>\n",
       "      <th>0</th>\n",
       "      <td>2017-11-19</td>\n",
       "      <td>None</td>\n",
       "      <td>None</td>\n",
       "      <td>34.002</td>\n",
       "      <td>4.756</td>\n",
       "      <td>16</td>\n",
       "      <td>小山工場</td>\n",
       "      <td>0</td>\n",
       "      <td>1</td>\n",
       "      <td>0</td>\n",
       "      <td>時田</td>\n",
       "      <td>29.246</td>\n",
       "      <td>1.827875</td>\n",
       "    </tr>\n",
       "    <tr>\n",
       "      <th>1</th>\n",
       "      <td>2017-11-20</td>\n",
       "      <td>None</td>\n",
       "      <td>None</td>\n",
       "      <td>34.435</td>\n",
       "      <td>4.805</td>\n",
       "      <td>17</td>\n",
       "      <td>小山工場</td>\n",
       "      <td>0</td>\n",
       "      <td>1</td>\n",
       "      <td>0</td>\n",
       "      <td>時田</td>\n",
       "      <td>29.630</td>\n",
       "      <td>1.742941</td>\n",
       "    </tr>\n",
       "    <tr>\n",
       "      <th>2</th>\n",
       "      <td>2017-11-21</td>\n",
       "      <td>2018-06-01</td>\n",
       "      <td>None</td>\n",
       "      <td>34.000</td>\n",
       "      <td>4.815</td>\n",
       "      <td>18</td>\n",
       "      <td>小山工場</td>\n",
       "      <td>0</td>\n",
       "      <td>1</td>\n",
       "      <td>0</td>\n",
       "      <td>時田</td>\n",
       "      <td>29.185</td>\n",
       "      <td>1.621389</td>\n",
       "    </tr>\n",
       "  </tbody>\n",
       "</table>\n",
       "</div>"
      ],
      "text/plain": [
       "  measure_date best_before prd_number  weight  box_weight  ball_number  \\\n",
       "0   2017-11-19        None       None  34.002       4.756           16   \n",
       "1   2017-11-20        None       None  34.435       4.805           17   \n",
       "2   2017-11-21  2018-06-01       None  34.000       4.815           18   \n",
       "\n",
       "  factory  angel  campaign  taste buyer  net_weight  mean_weight  \n",
       "0    小山工場      0         1      0    時田      29.246     1.827875  \n",
       "1    小山工場      0         1      0    時田      29.630     1.742941  \n",
       "2    小山工場      0         1      0    時田      29.185     1.621389  "
      ]
     },
     "execution_count": 3,
     "metadata": {},
     "output_type": "execute_result"
    }
   ],
   "source": [
    "HOME = '/home/yoichi/work/choco-ball'  # ubuntu\n",
    "#HOME = '/Users/tokita/workspace/etc/choco-ball-statistics'  # mac\n",
    "db_file = os.path.join(HOME, 'data/choco-ball.db')\n",
    "f_str = 'campaign is not 1 or campaign is 1'\n",
    "p_data = util.get_data(db_file=db_file, filter_str=f_str)\n",
    "data = p_data.drop(columns='shop')\n",
    "data[:3]"
   ]
  },
  {
   "cell_type": "code",
   "execution_count": 4,
   "metadata": {},
   "outputs": [],
   "source": [
    "# 銀のエンゼルのフラグデータ\n",
    "data['silver'] = [1 if a == 1 else 0 for a in data['angel'].values]\n",
    "# 金のエンゼル\n",
    "data['gold'] = [1 if a == 2 else 0 for a in data['angel'].values]\n",
    "\n",
    "# 購入者の調整\n",
    "data['buyer'] = ['ピシャイ' if a in 'ピシャイ/佐藤' else a for a in data['buyer'].values]\n",
    "\n",
    "\"\"\"\n",
    "data['buyer'] = ['筆者' if a in '時田' else a for a in data['buyer'].values]\n",
    "data['buyer'] = ['同僚A' if a in '西田' else a for a in data['buyer'].values]\n",
    "data['buyer'] = ['同僚B' if a in 'ピシャイ' else a for a in data['buyer'].values]\n",
    "data['buyer'] = ['同僚C' if a in '根本' else a for a in data['buyer'].values]\n",
    "data['buyer'] = ['同僚D' if a in '大谷' else a for a in data['buyer'].values]\n",
    "data['buyer'] = ['同僚E' if a in '岡崎' else a for a in data['buyer'].values]\n",
    "\"\"\"\n",
    "\n",
    "data['ones'] = 1"
   ]
  },
  {
   "cell_type": "code",
   "execution_count": 5,
   "metadata": {},
   "outputs": [
    {
     "data": {
      "text/html": [
       "<div>\n",
       "<style scoped>\n",
       "    .dataframe tbody tr th:only-of-type {\n",
       "        vertical-align: middle;\n",
       "    }\n",
       "\n",
       "    .dataframe tbody tr th {\n",
       "        vertical-align: top;\n",
       "    }\n",
       "\n",
       "    .dataframe thead th {\n",
       "        text-align: right;\n",
       "    }\n",
       "</style>\n",
       "<table border=\"1\" class=\"dataframe\">\n",
       "  <thead>\n",
       "    <tr style=\"text-align: right;\">\n",
       "      <th>angel</th>\n",
       "      <th>0</th>\n",
       "      <th>1</th>\n",
       "      <th>2</th>\n",
       "    </tr>\n",
       "    <tr>\n",
       "      <th>buyer</th>\n",
       "      <th></th>\n",
       "      <th></th>\n",
       "      <th></th>\n",
       "    </tr>\n",
       "  </thead>\n",
       "  <tbody>\n",
       "    <tr>\n",
       "      <th>ピシャイ</th>\n",
       "      <td>81</td>\n",
       "      <td>5</td>\n",
       "      <td>1</td>\n",
       "    </tr>\n",
       "    <tr>\n",
       "      <th>嘉瀬</th>\n",
       "      <td>1</td>\n",
       "      <td>0</td>\n",
       "      <td>0</td>\n",
       "    </tr>\n",
       "    <tr>\n",
       "      <th>大谷</th>\n",
       "      <td>4</td>\n",
       "      <td>1</td>\n",
       "      <td>0</td>\n",
       "    </tr>\n",
       "    <tr>\n",
       "      <th>岡崎</th>\n",
       "      <td>2</td>\n",
       "      <td>0</td>\n",
       "      <td>0</td>\n",
       "    </tr>\n",
       "    <tr>\n",
       "      <th>時田</th>\n",
       "      <td>230</td>\n",
       "      <td>6</td>\n",
       "      <td>0</td>\n",
       "    </tr>\n",
       "    <tr>\n",
       "      <th>根本</th>\n",
       "      <td>8</td>\n",
       "      <td>0</td>\n",
       "      <td>0</td>\n",
       "    </tr>\n",
       "    <tr>\n",
       "      <th>直美</th>\n",
       "      <td>1</td>\n",
       "      <td>0</td>\n",
       "      <td>0</td>\n",
       "    </tr>\n",
       "    <tr>\n",
       "      <th>西田</th>\n",
       "      <td>69</td>\n",
       "      <td>2</td>\n",
       "      <td>0</td>\n",
       "    </tr>\n",
       "  </tbody>\n",
       "</table>\n",
       "</div>"
      ],
      "text/plain": [
       "angel    0  1  2\n",
       "buyer           \n",
       "ピシャイ    81  5  1\n",
       "嘉瀬       1  0  0\n",
       "大谷       4  1  0\n",
       "岡崎       2  0  0\n",
       "時田     230  6  0\n",
       "根本       8  0  0\n",
       "直美       1  0  0\n",
       "西田      69  2  0"
      ]
     },
     "execution_count": 5,
     "metadata": {},
     "output_type": "execute_result"
    }
   ],
   "source": [
    "data.pivot_table(index=['buyer'], columns=['angel'], values='ones', fill_value=0, aggfunc=lambda x:len(x))"
   ]
  },
  {
   "cell_type": "markdown",
   "metadata": {},
   "source": [
    "# 購入者別のエンゼル出現確率"
   ]
  },
  {
   "cell_type": "code",
   "execution_count": 6,
   "metadata": {},
   "outputs": [],
   "source": [
    "import pymc as pm\n",
    "import scipy.stats as stats"
   ]
  },
  {
   "cell_type": "code",
   "execution_count": 11,
   "metadata": {},
   "outputs": [],
   "source": [
    "def getMCMCResult(data, n_sample=35000, n_burn=5000):\n",
    "    \"\"\"\n",
    "    MCMCでエンゼルの出現確率を予測する\n",
    "    Args:\n",
    "        data:エンゼルの観測結果(array)\n",
    "        n_sample:MCMCシミュレーションの回数(integer)\n",
    "        n_burn:捨てる数(integer)\n",
    "    \"\"\"\n",
    "    # 出現確率pの事前分布\n",
    "    p = pm.Uniform('p', lower=0, upper=1)\n",
    "    # 観測を結びつける\n",
    "    obs = pm.Bernoulli('obs', p, value=data, observed=True)\n",
    "\n",
    "    # MCMC\n",
    "    # Modelオブジェクト生成\n",
    "    model = pm.Model([p, obs])\n",
    "    mcmc = pm.MCMC(model)\n",
    "    mcmc.sample(n_sample, n_burn)\n",
    "\n",
    "    return mcmc.trace('p')[:]"
   ]
  },
  {
   "cell_type": "code",
   "execution_count": 15,
   "metadata": {},
   "outputs": [
    {
     "name": "stdout",
     "output_type": "stream",
     "text": [
      " [-----------------100%-----------------] 35000 of 35000 complete in 1.7 secピシャイ : 0.07242599625663966\n"
     ]
    },
    {
     "name": "stderr",
     "output_type": "stream",
     "text": [
      "/home/yoichi/.pyenv/versions/anaconda2-4.3.0/envs/choco3/lib/python3.6/site-packages/matplotlib/axes/_axes.py:6462: UserWarning: The 'normed' kwarg is deprecated, and has been replaced by the 'density' kwarg.\n",
      "  warnings.warn(\"The 'normed' kwarg is deprecated, and has been \"\n"
     ]
    },
    {
     "name": "stdout",
     "output_type": "stream",
     "text": [
      " [-----------------100%-----------------] 35000 of 35000 complete in 1.7 sec時田 : 0.04592680360076015\n",
      " [-----------------100%-----------------] 35000 of 35000 complete in 1.6 sec西田 : 0.04910860343275227\n"
     ]
    },
    {
     "data": {
      "image/png": "[encoded data removed]",
      "text/plain": [
       "<Figure size 504x288 with 1 Axes>"
      ]
     },
     "metadata": {},
     "output_type": "display_data"
    }
   ],
   "source": [
    "grp = data[data['campaign'] != 1].groupby(['buyer'])\n",
    "g_cnt = len(grp.groups.keys())\n",
    "\n",
    "fig = plt.figure(figsize=(7, 4))\n",
    "ax = fig.subplots(1, 1)\n",
    "\n",
    "cnt = 0\n",
    "for key, group in grp:\n",
    "    if group.shape[0] < 6:\n",
    "        continue\n",
    "    p_dist_silver = pd.Series(getMCMCResult(group['silver']))\n",
    "    sns.distplot(p_dist_silver, ax=ax, label=key, bins=np.arange(0.0, 0.8, 0.01))\n",
    "    print('{} : {}'.format(key, p_dist_silver.mean()))\n",
    "    cnt+=1\n",
    "ax.legend(fontsize=14)\n",
    "ax.set_xlabel('Angel Rate', fontsize=16)\n",
    "ax.set_xlim([0.0, 0.3])\n",
    "ax.tick_params(labelsize=16)\n",
    "\n",
    "#fig.savefig('../fig/estimate_angel_rate_buyer_20180515.png')\n",
    "fig.savefig('estimate_angel_rate_buyer_20181220.png')"
   ]
  },
  {
   "cell_type": "code",
   "execution_count": 14,
   "metadata": {},
   "outputs": [
    {
     "name": "stdout",
     "output_type": "stream",
     "text": [
      " [-----------------100%-----------------] 35000 of 35000 complete in 1.7 secピシャイ : 0.06710437273165074\n"
     ]
    },
    {
     "name": "stderr",
     "output_type": "stream",
     "text": [
      "/home/yoichi/.pyenv/versions/anaconda2-4.3.0/envs/choco3/lib/python3.6/site-packages/matplotlib/axes/_axes.py:6462: UserWarning: The 'normed' kwarg is deprecated, and has been replaced by the 'density' kwarg.\n",
      "  warnings.warn(\"The 'normed' kwarg is deprecated, and has been \"\n"
     ]
    },
    {
     "name": "stdout",
     "output_type": "stream",
     "text": [
      " [-----------------100%-----------------] 35000 of 35000 complete in 1.9 sec時田 : 0.029346174863136783\n",
      " [-----------------100%-----------------] 35000 of 35000 complete in 1.7 sec西田 : 0.04109693891468985\n"
     ]
    },
    {
     "data": {
      "image/png": "[encoded data removed]",
      "text/plain": [
       "<Figure size 504x288 with 1 Axes>"
      ]
     },
     "metadata": {},
     "output_type": "display_data"
    }
   ],
   "source": [
    "grp = data.groupby(['buyer'])\n",
    "g_cnt = len(grp.groups.keys())\n",
    "\n",
    "fig = plt.figure(figsize=(7, 4))\n",
    "ax = fig.subplots(1, 1)\n",
    "\n",
    "cnt = 0\n",
    "for key, group in grp:\n",
    "    if group.shape[0] < 10:\n",
    "        continue\n",
    "    p_dist_silver = pd.Series(getMCMCResult(group['silver']))\n",
    "    sns.distplot(p_dist_silver, ax=ax, label=key, bins=np.arange(0.0, 0.8, 0.01))\n",
    "    print('{} : {}'.format(key, p_dist_silver.mean()))\n",
    "    cnt+=1\n",
    "ax.legend(fontsize=14)\n",
    "ax.set_xlabel('Angel Rate', fontsize=16)\n",
    "ax.set_xlim([0.0, 0.3])\n",
    "ax.tick_params(labelsize=16)\n",
    "\n",
    "fig.savefig('estimate_angel_rate_buyer_20181220_all.png')"
   ]
  },
  {
   "cell_type": "markdown",
   "metadata": {},
   "source": [
    "## β分布を事前分布に"
   ]
  },
  {
   "cell_type": "code",
   "execution_count": null,
   "metadata": {},
   "outputs": [],
   "source": [
    "x = np.linspace(0.0, 0.999, 1000)\n",
    "y = stats.beta.pdf(x, 2, 15)\n",
    "plt.plot(x, y)\n",
    "pd.DataFrame({'x':x, 'y':y}).sort_values(by=['y'], ascending=False)[:3]\n",
    "\n",
    "#plt.savefig('./fig/beta_dist.png')"
   ]
  },
  {
   "cell_type": "code",
   "execution_count": null,
   "metadata": {},
   "outputs": [],
   "source": [
    "def getMCMCResultBeta(data, n_sample=15000, n_burn=5000):\n",
    "    \"\"\"\n",
    "    MCMCでエンゼルの出現確率を予測する\n",
    "    Args:\n",
    "        data:エンゼルの観測結果(array)\n",
    "        n_sample:MCMCシミュレーションの回数(integer)\n",
    "        n_burn:捨てる数(integer)\n",
    "    \"\"\"\n",
    "    # 出現確率pの事前分布\n",
    "    p = pm.Beta('p', alpha=2, beta=15)\n",
    "    # 観測を結びつける\n",
    "    obs = pm.Bernoulli('obs', p, value=data, observed=True)\n",
    "\n",
    "    # MCMC\n",
    "    # Modelオブジェクト生成\n",
    "    model = pm.Model([p, obs])\n",
    "    mcmc = pm.MCMC(model)\n",
    "    mcmc.sample(n_sample, n_burn)\n",
    "\n",
    "    return mcmc.trace('p')[:]"
   ]
  },
  {
   "cell_type": "code",
   "execution_count": null,
   "metadata": {},
   "outputs": [],
   "source": [
    "grp = data[data['campaign'] != 1].groupby(['buyer'])\n",
    "\n",
    "fig = plt.figure(figsize=(7, 4))\n",
    "ax = fig.subplots(1, 1)\n",
    "\n",
    "for key, group in grp:\n",
    "    if group.shape[0] < 6:\n",
    "        continue\n",
    "    p_dist_silver = pd.Series(getMCMCResultBeta(group['silver']))\n",
    "    sns.distplot(p_dist_silver, ax=ax, label=key, bins=np.arange(0.0, 0.8, 0.01))\n",
    "ax.legend(fontsize=14)\n",
    "ax.set_xlabel('Engel Rate', fontsize=16)\n",
    "ax.set_xlim([0.0, 1.0])\n",
    "ax.tick_params(labelsize=16)\n",
    "\n",
    "fig.savefig('../fig/estimate_angel_rate_buyer_beta_20180515.png')"
   ]
  },
  {
   "cell_type": "code",
   "execution_count": null,
   "metadata": {},
   "outputs": [],
   "source": []
  }
 ],
 "metadata": {
  "kernelspec": {
   "display_name": "Python 3",
   "language": "python",
   "name": "python3"
  },
  "language_info": {
   "codemirror_mode": {
    "name": "ipython",
    "version": 3
   },
   "file_extension": ".py",
   "mimetype": "text/x-python",
   "name": "python",
   "nbconvert_exporter": "python",
   "pygments_lexer": "ipython3",
   "version": "3.6.4"
  },
  "toc": {
   "base_numbering": 1,
   "nav_menu": {},
   "number_sections": true,
   "sideBar": true,
   "skip_h1_title": false,
   "title_cell": "Table of Contents",
   "title_sidebar": "Contents",
   "toc_cell": false,
   "toc_position": {},
   "toc_section_display": true,
   "toc_window_display": false
  }
 },
 "nbformat": 4,
 "nbformat_minor": 2
}
