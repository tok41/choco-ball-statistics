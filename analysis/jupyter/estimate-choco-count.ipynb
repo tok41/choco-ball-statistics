{
 "cells": [
  {
   "cell_type": "markdown",
   "metadata": {},
   "source": [
    "# 目的：個数の予測\n",
    "- pymcでチョコボールの個数を予測する\n",
    "- モデル\n",
    "    - 重量分布は正規分布であると仮定する\n",
    "    - 事前分布は平均28gの正規分布とする（分散を大きくして一様分布みたいなものとする）"
   ]
  },
  {
   "cell_type": "code",
   "execution_count": 1,
   "metadata": {},
   "outputs": [],
   "source": [
    "import sys, os\n",
    "import sqlite3\n",
    "import numpy as np\n",
    "import pandas as pd\n",
    "import scipy.stats as stats\n",
    "\n",
    "%matplotlib inline\n",
    "import matplotlib.pyplot as plt\n",
    "import seaborn as sns, numpy as np\n",
    "\n",
    "import pymc as pm\n",
    "\n",
    "import ChocoUtils as cu"
   ]
  },
  {
   "cell_type": "code",
   "execution_count": 8,
   "metadata": {},
   "outputs": [],
   "source": [
    "# seaborneスタイルセット\n",
    "import seaborn as sns\n",
    "sns.set()\n",
    "sns.set_style('darkgrid') # プリセットのスタイル\n",
    "sns.set_context(\"paper\")  # スケール"
   ]
  },
  {
   "cell_type": "markdown",
   "metadata": {},
   "source": [
    "# データをロードする\n",
    "- mysqlに貯めているデータをロード\n",
    "- ヒストグラムを描画してみる"
   ]
  },
  {
   "cell_type": "code",
   "execution_count": 4,
   "metadata": {},
   "outputs": [
    {
     "name": "stdout",
     "output_type": "stream",
     "text": [
      "SELECT measure_date, best_before, prd_number, weight, box_weight, ball_number, factory, shop, angel, campaign, taste, buyer, (weight - box_weight), (weight - box_weight)/ball_number FROM measurement WHERE taste in (0);\n",
      "Shape of MeasurementData(record_num, n_columns) : (287, 14)\n"
     ]
    },
    {
     "data": {
      "text/html": [
       "<div>\n",
       "<style scoped>\n",
       "    .dataframe tbody tr th:only-of-type {\n",
       "        vertical-align: middle;\n",
       "    }\n",
       "\n",
       "    .dataframe tbody tr th {\n",
       "        vertical-align: top;\n",
       "    }\n",
       "\n",
       "    .dataframe thead th {\n",
       "        text-align: right;\n",
       "    }\n",
       "</style>\n",
       "<table border=\"1\" class=\"dataframe\">\n",
       "  <thead>\n",
       "    <tr style=\"text-align: right;\">\n",
       "      <th></th>\n",
       "      <th>ball_number</th>\n",
       "    </tr>\n",
       "    <tr>\n",
       "      <th>taste</th>\n",
       "      <th></th>\n",
       "    </tr>\n",
       "  </thead>\n",
       "  <tbody>\n",
       "    <tr>\n",
       "      <th>0</th>\n",
       "      <td>287</td>\n",
       "    </tr>\n",
       "  </tbody>\n",
       "</table>\n",
       "</div>"
      ],
      "text/plain": [
       "       ball_number\n",
       "taste             \n",
       "0              287"
      ]
     },
     "execution_count": 4,
     "metadata": {},
     "output_type": "execute_result"
    }
   ],
   "source": [
    "data = cu.get_data(db_file='../../data/choco-ball.db', filter_str=\"taste in (0)\")\n",
    "grp = data.groupby(['taste'])\n",
    "grp.count()[['ball_number']]"
   ]
  },
  {
   "cell_type": "code",
   "execution_count": 16,
   "metadata": {},
   "outputs": [
    {
     "data": {
      "image/png": "[encoded data removed]",
      "text/plain": [
       "<Figure size 432x288 with 1 Axes>"
      ]
     },
     "metadata": {},
     "output_type": "display_data"
    }
   ],
   "source": [
    "ret = plt.hist(data['ball_number'], bins=np.arange(12, 23), \n",
    "              color=\"#0000FF\", edgecolor=\"#0000FF\", alpha=0.3)\n",
    "plt.savefig('choco_count_dist.png')"
   ]
  },
  {
   "cell_type": "markdown",
   "metadata": {},
   "source": [
    "# パラメータ予測"
   ]
  },
  {
   "cell_type": "code",
   "execution_count": 11,
   "metadata": {},
   "outputs": [],
   "source": [
    "# 事前分布のパラメータ$\\alpha$\n",
    "alpha = 1.0 / data['ball_number'].mean()\n",
    "\n",
    "# ポアソン分布のパラメータ$\\lmabda$の初期分布\n",
    "lambda_1 = pm.Exponential(\"lambda_1\", alpha)\n"
   ]
  },
  {
   "cell_type": "code",
   "execution_count": 12,
   "metadata": {},
   "outputs": [
    {
     "name": "stdout",
     "output_type": "stream",
     "text": [
      " [-----------------100%-----------------] 150000 of 150000 complete in 8.8 sec"
     ]
    }
   ],
   "source": [
    "# 観測データを結びつける\n",
    "observation = pm.Poisson(\"obs\", lambda_1, value=np.array(data['ball_number']), observed=True)\n",
    "model = pm.Model([observation, lambda_1])\n",
    "\n",
    "mcmc = pm.MCMC(model)\n",
    "mcmc.sample(150000, 50000)"
   ]
  },
  {
   "cell_type": "code",
   "execution_count": 13,
   "metadata": {},
   "outputs": [],
   "source": [
    "lambda_1_sample = mcmc.trace('lambda_1')[:]"
   ]
  },
  {
   "cell_type": "code",
   "execution_count": 17,
   "metadata": {},
   "outputs": [
    {
     "name": "stderr",
     "output_type": "stream",
     "text": [
      "/home/yoichi/.pyenv/versions/anaconda2-4.3.0/envs/choco3/lib/python3.6/site-packages/matplotlib/axes/_axes.py:6462: UserWarning: The 'normed' kwarg is deprecated, and has been replaced by the 'density' kwarg.\n",
      "  warnings.warn(\"The 'normed' kwarg is deprecated, and has been \"\n"
     ]
    },
    {
     "data": {
      "image/png": "[encoded data removed]",
      "text/plain": [
       "<Figure size 720x216 with 1 Axes>"
      ]
     },
     "metadata": {},
     "output_type": "display_data"
    }
   ],
   "source": [
    "fig = plt.figure(figsize=(10, 3))\n",
    "ax = fig.subplots(1, 1)\n",
    "\n",
    "bs = np.arange(12, 23, 0.1)\n",
    "sns.distplot(lambda_1_sample, ax=ax, bins=bs, label='lambda_1')\n",
    "ax.set_xlim([12, 23])\n",
    "ax.set_title('lambda_1 dist.')\n",
    "fig.savefig('estimated_choco_count.png')"
   ]
  },
  {
   "cell_type": "code",
   "execution_count": null,
   "metadata": {},
   "outputs": [],
   "source": []
  },
  {
   "cell_type": "code",
   "execution_count": null,
   "metadata": {},
   "outputs": [],
   "source": []
  },
  {
   "cell_type": "markdown",
   "metadata": {},
   "source": [
    "# 正規分布のパラメータを予測\n",
    "## 最尤推定"
   ]
  },
  {
   "cell_type": "code",
   "execution_count": null,
   "metadata": {},
   "outputs": [],
   "source": [
    "m = data['net_weight'].mean()\n",
    "s = data['net_weight'].std()\n",
    "print 'mean:{}, std:{}'.format(m, s)"
   ]
  },
  {
   "cell_type": "markdown",
   "metadata": {},
   "source": [
    "## MCMCによるベイズ推定\n",
    "### モデルの設定"
   ]
  },
  {
   "cell_type": "code",
   "execution_count": null,
   "metadata": {},
   "outputs": [],
   "source": [
    "# 精度$\\tau$(分散の逆数)\n",
    "tau = 1.0 / pm.Uniform(\"std\", 0, 100)**2\n",
    "\n",
    "# 分布の中心\n",
    "## 事前分布の中心として、製品仕様の28を、tauを0.01(分散=100)\n",
    "center = pm.Normal(\"center\", 28, 0.01)\n",
    "\n",
    "# 観測とモデルを結びつける\n",
    "observations = pm.Normal(\"obs\", center, tau, value=data['net_weight'].values, observed=True)\n",
    "\n",
    "# Modelオブジェクト生成\n",
    "model = pm.Model([tau, center])"
   ]
  },
  {
   "cell_type": "markdown",
   "metadata": {},
   "source": [
    "### mcmcの計算"
   ]
  },
  {
   "cell_type": "code",
   "execution_count": null,
   "metadata": {},
   "outputs": [],
   "source": [
    "mcmc = pm.MCMC(model)\n",
    "mcmc.sample(30000) # バーンイン無し"
   ]
  },
  {
   "cell_type": "markdown",
   "metadata": {},
   "source": [
    "### MCMCの結果を確認"
   ]
  },
  {
   "cell_type": "code",
   "execution_count": null,
   "metadata": {},
   "outputs": [],
   "source": [
    "center_trace = mcmc.trace(\"center\")[:]\n",
    "std_trace = mcmc.trace(\"std\")[:]"
   ]
  },
  {
   "cell_type": "code",
   "execution_count": null,
   "metadata": {},
   "outputs": [],
   "source": [
    "plt.figure(figsize=(12, 6))\n",
    "plt.subplot(2,2,1)\n",
    "plt.plot(center_trace, '.', alpha=0.3, label=\"center_trace\")\n",
    "plt.legend()\n",
    "\n",
    "plt.subplot(2,2,2)\n",
    "plt.plot(center_trace[10000:], '.', alpha=0.3, label=\"center_trace(10000~)\")\n",
    "plt.legend()\n",
    "\n",
    "plt.subplot(2,2,3)\n",
    "plt.plot(std_trace, '.', alpha=0.3, label=\"std_trace\")\n",
    "plt.legend()\n",
    "\n",
    "plt.subplot(2,2,4)\n",
    "plt.plot(std_trace[10000:], '.', alpha=0.3, label=\"std_trace(10000~)\")\n",
    "plt.legend()\n",
    "#plt.savefig(\"trace_plot_net_weight.png\")"
   ]
  },
  {
   "cell_type": "markdown",
   "metadata": {},
   "source": [
    "上記の結果は、MCMCでのシミュレーションサンプルの系列を表している。\n",
    "開始すぐに収束しているのがわかる。"
   ]
  },
  {
   "cell_type": "code",
   "execution_count": null,
   "metadata": {},
   "outputs": [],
   "source": [
    "plt.figure(figsize=(12, 4))\n",
    "\n",
    "# 平均の予測\n",
    "plt.subplot(1,2,1)\n",
    "ret = plt.hist(center_trace[10000:], bins=np.arange(28.0, 31.0, 0.1), \n",
    "               normed=True, label='distribution of mean')\n",
    "# ret = plt.hist(center_trace[10000:], \n",
    "#                normed=True, label='distribution of mean')\n",
    "plt.vlines(x=np.percentile(center_trace[10000:], 5), ymin=0, ymax=ret[0].max(), \n",
    "          colors='#00FF00', linewidth=2)\n",
    "plt.vlines(x=np.percentile(center_trace[10000:], 95), ymin=0, ymax=ret[0].max(), \n",
    "          colors='#00FF00', linewidth=2)\n",
    "plt.xlabel('net weight [g]')\n",
    "plt.xlim([27.5, 31.5])\n",
    "plt.legend()\n",
    "print 'esetimate_center : {}'.format(center_trace[10000].mean())\n",
    "print 'Bayesian credit section [5%~95%] : {}~{}'.format(\n",
    "    np.percentile(center_trace[10000:], 5), np.percentile(center_trace[10000:], 95))\n",
    "m_b = center_trace[10000].mean()\n",
    "\n",
    "# 分散の予測\n",
    "plt.subplot(1,2,2)\n",
    "ret = plt.hist(std_trace[10000:], normed=True, label='distribution of std')\n",
    "plt.xlabel('standard deviation of net_weight [g]')\n",
    "plt.legend()\n",
    "print 'estimate_std : {}'.format(std_trace.mean())\n",
    "s_b = std_trace[10000:].mean()\n",
    "\n",
    "plt.savefig('fig/estimated_dist_{}.png'.format(data.shape[0]))"
   ]
  },
  {
   "cell_type": "markdown",
   "metadata": {},
   "source": [
    "# 予測結果を表示"
   ]
  },
  {
   "cell_type": "code",
   "execution_count": null,
   "metadata": {},
   "outputs": [],
   "source": [
    "min_range=27.0\n",
    "max_range=31.0\n",
    "step=0.1\n",
    "spec=28.0\n",
    "\n",
    "b = np.arange(min_range, max_range, step)\n",
    "ret = plt.hist(data['net_weight'], \n",
    "               bins=b, color=\"#0000FF\", alpha=0.5, edgecolor=\"#0000FF\", \n",
    "               label='measure', normed=True)\n",
    "plt.vlines(x=spec, ymin=0, ymax=ret[0].max(), \n",
    "           colors='#FF0000', linewidths=2, label='spec')\n",
    "\n",
    "# 最尤推定パラメータの分布\n",
    "x = np.linspace(min_range, max_range, 300)\n",
    "y = stats.norm.pdf(x, loc=m, scale=s)\n",
    "plt.plot(x, y, lw=3, color='#0000FF', label='MLE')\n",
    "\n",
    "# ベイズ推定での分布\n",
    "y = stats.norm.pdf(x, loc=m_b, scale=s_b)\n",
    "plt.plot(x, y, lw=3, color='#FF00FF', label='Bayes')\n",
    "\n",
    "plt.legend()\n",
    "plt.xlabel('net weight [g]')\n",
    "plt.ylabel('probability density')\n",
    "\n",
    "plt.savefig('fig/weight_distribution_{}.png'.format(data.shape[0]))"
   ]
  },
  {
   "cell_type": "code",
   "execution_count": null,
   "metadata": {},
   "outputs": [],
   "source": []
  }
 ],
 "metadata": {
  "kernelspec": {
   "display_name": "Python 3",
   "language": "python",
   "name": "python3"
  },
  "language_info": {
   "codemirror_mode": {
    "name": "ipython",
    "version": 3
   },
   "file_extension": ".py",
   "mimetype": "text/x-python",
   "name": "python",
   "nbconvert_exporter": "python",
   "pygments_lexer": "ipython3",
   "version": "3.6.4"
  },
  "toc": {
   "base_numbering": 1,
   "nav_menu": {},
   "number_sections": true,
   "sideBar": true,
   "skip_h1_title": false,
   "title_cell": "Table of Contents",
   "title_sidebar": "Contents",
   "toc_cell": false,
   "toc_position": {},
   "toc_section_display": "block",
   "toc_window_display": false
  }
 },
 "nbformat": 4,
 "nbformat_minor": 2
}
