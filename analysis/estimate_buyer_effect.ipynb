{
 "cells": [
  {
   "cell_type": "markdown",
   "metadata": {},
   "source": [
    "# 目的\n",
    "- 購入者の効果、貢献度を評価する"
   ]
  },
  {
   "cell_type": "code",
   "execution_count": 1,
   "metadata": {},
   "outputs": [],
   "source": [
    "import sys, os\n",
    "import sqlite3\n",
    "import numpy as np\n",
    "import pandas as pd\n",
    "\n",
    "%matplotlib inline\n",
    "import matplotlib.pyplot as plt\n",
    "import seaborn as sns\n",
    "\n",
    "from datetime import datetime as dt\n",
    "\n",
    "import ChocoUtils as util"
   ]
  },
  {
   "cell_type": "code",
   "execution_count": 2,
   "metadata": {},
   "outputs": [],
   "source": [
    "# jupyterの日本語設定\n",
    "import matplotlib\n",
    "from matplotlib.font_manager import FontProperties\n",
    "\n",
    "font_path = '/usr/share/fonts/truetype/takao-gothic/TakaoPGothic.ttf'\n",
    "font_prop = FontProperties(fname=font_path)\n",
    "matplotlib.rcParams['font.family'] = font_prop.get_name()"
   ]
  },
  {
   "cell_type": "markdown",
   "metadata": {},
   "source": [
    "# データロード"
   ]
  },
  {
   "cell_type": "code",
   "execution_count": 3,
   "metadata": {},
   "outputs": [
    {
     "name": "stdout",
     "output_type": "stream",
     "text": [
      "SELECT measure_date, best_before, prd_number, weight, box_weight, ball_number, factory, shop, angel, campaign, taste, buyer, (weight - box_weight), (weight - box_weight)/ball_number FROM measurement WHERE campaign is not 1;\n",
      "Shape of MeasurementData(record_num, n_columns) : (40, 14)\n"
     ]
    },
    {
     "data": {
      "text/html": [
       "<div>\n",
       "<style scoped>\n",
       "    .dataframe tbody tr th:only-of-type {\n",
       "        vertical-align: middle;\n",
       "    }\n",
       "\n",
       "    .dataframe tbody tr th {\n",
       "        vertical-align: top;\n",
       "    }\n",
       "\n",
       "    .dataframe thead th {\n",
       "        text-align: right;\n",
       "    }\n",
       "</style>\n",
       "<table border=\"1\" class=\"dataframe\">\n",
       "  <thead>\n",
       "    <tr style=\"text-align: right;\">\n",
       "      <th></th>\n",
       "      <th>measure_date</th>\n",
       "      <th>best_before</th>\n",
       "      <th>prd_number</th>\n",
       "      <th>weight</th>\n",
       "      <th>box_weight</th>\n",
       "      <th>ball_number</th>\n",
       "      <th>factory</th>\n",
       "      <th>angel</th>\n",
       "      <th>campaign</th>\n",
       "      <th>taste</th>\n",
       "      <th>buyer</th>\n",
       "      <th>net_weight</th>\n",
       "      <th>mean_weight</th>\n",
       "    </tr>\n",
       "  </thead>\n",
       "  <tbody>\n",
       "    <tr>\n",
       "      <th>0</th>\n",
       "      <td>2017-12-04</td>\n",
       "      <td>2018-02-01</td>\n",
       "      <td>BA6</td>\n",
       "      <td>34.513</td>\n",
       "      <td>4.710</td>\n",
       "      <td>16</td>\n",
       "      <td>小山工場</td>\n",
       "      <td>0</td>\n",
       "      <td>2</td>\n",
       "      <td>0</td>\n",
       "      <td>根本</td>\n",
       "      <td>29.803</td>\n",
       "      <td>1.862688</td>\n",
       "    </tr>\n",
       "    <tr>\n",
       "      <th>1</th>\n",
       "      <td>2017-12-04</td>\n",
       "      <td>2018-02-01</td>\n",
       "      <td>AA6</td>\n",
       "      <td>33.644</td>\n",
       "      <td>4.731</td>\n",
       "      <td>16</td>\n",
       "      <td>小山工場</td>\n",
       "      <td>0</td>\n",
       "      <td>2</td>\n",
       "      <td>0</td>\n",
       "      <td>根本</td>\n",
       "      <td>28.913</td>\n",
       "      <td>1.807062</td>\n",
       "    </tr>\n",
       "    <tr>\n",
       "      <th>2</th>\n",
       "      <td>2017-12-10</td>\n",
       "      <td>2018-09-01</td>\n",
       "      <td>CA9</td>\n",
       "      <td>31.103</td>\n",
       "      <td>4.776</td>\n",
       "      <td>15</td>\n",
       "      <td>小山工場</td>\n",
       "      <td>0</td>\n",
       "      <td>2</td>\n",
       "      <td>1</td>\n",
       "      <td>時田</td>\n",
       "      <td>26.327</td>\n",
       "      <td>1.755133</td>\n",
       "    </tr>\n",
       "  </tbody>\n",
       "</table>\n",
       "</div>"
      ],
      "text/plain": [
       "  measure_date best_before prd_number  weight  box_weight  ball_number  \\\n",
       "0   2017-12-04  2018-02-01        BA6  34.513       4.710           16   \n",
       "1   2017-12-04  2018-02-01        AA6  33.644       4.731           16   \n",
       "2   2017-12-10  2018-09-01        CA9  31.103       4.776           15   \n",
       "\n",
       "  factory  angel  campaign  taste buyer  net_weight  mean_weight  \n",
       "0    小山工場      0         2      0    根本      29.803     1.862688  \n",
       "1    小山工場      0         2      0    根本      28.913     1.807062  \n",
       "2    小山工場      0         2      1    時田      26.327     1.755133  "
      ]
     },
     "execution_count": 3,
     "metadata": {},
     "output_type": "execute_result"
    }
   ],
   "source": [
    "db_file = '../data/choco-ball.db'\n",
    "f_str = 'campaign is not 1'\n",
    "p_data = util.get_data(db_file=db_file, filter_str=f_str)\n",
    "data = p_data.drop(columns='shop')\n",
    "data[:3]"
   ]
  },
  {
   "cell_type": "code",
   "execution_count": 4,
   "metadata": {},
   "outputs": [],
   "source": [
    "# 銀のエンゼルのフラグデータ\n",
    "data['silver'] = [1 if a == 1 else 0 for a in data['angel'].values]\n",
    "# 金のエンゼル\n",
    "data['gold'] = [1 if a == 2 else 0 for a in data['angel'].values]\n",
    "\n",
    "# 購入者の調整\n",
    "data['buyer'] = ['ピシャイ' if a in 'ピシャイ/佐藤' else a for a in data['buyer'].values]\n",
    "\n",
    "data['buyer'] = ['筆者' if a in '時田' else a for a in data['buyer'].values]\n",
    "data['buyer'] = ['同僚A' if a in '西田' else a for a in data['buyer'].values]\n",
    "data['buyer'] = ['同僚B' if a in 'ピシャイ' else a for a in data['buyer'].values]\n",
    "data['buyer'] = ['同僚C' if a in '根本' else a for a in data['buyer'].values]\n",
    "data['buyer'] = ['同僚D' if a in '大谷' else a for a in data['buyer'].values]\n",
    "\n",
    "data['ones'] = 1"
   ]
  },
  {
   "cell_type": "code",
   "execution_count": 5,
   "metadata": {},
   "outputs": [
    {
     "data": {
      "text/html": [
       "<div>\n",
       "<style scoped>\n",
       "    .dataframe tbody tr th:only-of-type {\n",
       "        vertical-align: middle;\n",
       "    }\n",
       "\n",
       "    .dataframe tbody tr th {\n",
       "        vertical-align: top;\n",
       "    }\n",
       "\n",
       "    .dataframe thead th {\n",
       "        text-align: right;\n",
       "    }\n",
       "</style>\n",
       "<table border=\"1\" class=\"dataframe\">\n",
       "  <thead>\n",
       "    <tr style=\"text-align: right;\">\n",
       "      <th>angel</th>\n",
       "      <th>0</th>\n",
       "      <th>1</th>\n",
       "    </tr>\n",
       "    <tr>\n",
       "      <th>buyer</th>\n",
       "      <th></th>\n",
       "      <th></th>\n",
       "    </tr>\n",
       "  </thead>\n",
       "  <tbody>\n",
       "    <tr>\n",
       "      <th>同僚A</th>\n",
       "      <td>8</td>\n",
       "      <td>0</td>\n",
       "    </tr>\n",
       "    <tr>\n",
       "      <th>同僚B</th>\n",
       "      <td>5</td>\n",
       "      <td>1</td>\n",
       "    </tr>\n",
       "    <tr>\n",
       "      <th>同僚C</th>\n",
       "      <td>2</td>\n",
       "      <td>0</td>\n",
       "    </tr>\n",
       "    <tr>\n",
       "      <th>同僚D</th>\n",
       "      <td>2</td>\n",
       "      <td>0</td>\n",
       "    </tr>\n",
       "    <tr>\n",
       "      <th>筆者</th>\n",
       "      <td>21</td>\n",
       "      <td>1</td>\n",
       "    </tr>\n",
       "  </tbody>\n",
       "</table>\n",
       "</div>"
      ],
      "text/plain": [
       "angel   0  1\n",
       "buyer       \n",
       "同僚A     8  0\n",
       "同僚B     5  1\n",
       "同僚C     2  0\n",
       "同僚D     2  0\n",
       "筆者     21  1"
      ]
     },
     "execution_count": 5,
     "metadata": {},
     "output_type": "execute_result"
    }
   ],
   "source": [
    "data.pivot_table(index=['buyer'], columns=['angel'], values='ones', fill_value=0, aggfunc=lambda x:len(x))"
   ]
  },
  {
   "cell_type": "markdown",
   "metadata": {},
   "source": [
    "# 購入者別のエンゼル出現確率"
   ]
  },
  {
   "cell_type": "code",
   "execution_count": 6,
   "metadata": {},
   "outputs": [],
   "source": [
    "import pymc as pm\n",
    "import scipy.stats as stats"
   ]
  },
  {
   "cell_type": "code",
   "execution_count": 7,
   "metadata": {},
   "outputs": [],
   "source": [
    "def getMCMCResult(data, n_sample=15000, n_burn=5000):\n",
    "    \"\"\"\n",
    "    MCMCでエンゼルの出現確率を予測する\n",
    "    Args:\n",
    "        data:エンゼルの観測結果(array)\n",
    "        n_sample:MCMCシミュレーションの回数(integer)\n",
    "        n_burn:捨てる数(integer)\n",
    "    \"\"\"\n",
    "    # 出現確率pの事前分布\n",
    "    p = pm.Uniform('p', lower=0, upper=1)\n",
    "    # 観測を結びつける\n",
    "    obs = pm.Bernoulli('obs', p, value=data, observed=True)\n",
    "\n",
    "    # MCMC\n",
    "    # Modelオブジェクト生成\n",
    "    model = pm.Model([p, obs])\n",
    "    mcmc = pm.MCMC(model)\n",
    "    mcmc.sample(n_sample, n_burn)\n",
    "\n",
    "    return mcmc.trace('p')[:]"
   ]
  },
  {
   "cell_type": "code",
   "execution_count": 8,
   "metadata": {},
   "outputs": [
    {
     "name": "stdout",
     "output_type": "stream",
     "text": [
      " [-----------------100%-----------------] 15000 of 15000 complete in 0.6 sec"
     ]
    },
    {
     "data": {
      "image/png": "[encoded data removed]",
      "text/plain": [
       "<matplotlib.figure.Figure at 0x7f47536a9208>"
      ]
     },
     "metadata": {},
     "output_type": "display_data"
    }
   ],
   "source": [
    "grp = data[data['campaign'] != 1].groupby(['buyer'])\n",
    "g_cnt = len(grp.groups.keys())\n",
    "\n",
    "fig = plt.figure(figsize=(7, 4))\n",
    "ax = fig.subplots(1, 1)\n",
    "\n",
    "cnt = 0\n",
    "for key, group in grp:\n",
    "    p_dist_silver = pd.Series(getMCMCResult(group['silver']))\n",
    "    sns.distplot(p_dist_silver, ax=ax, label=key)\n",
    "    cnt+=1\n",
    "ax.legend(fontsize=14)\n",
    "ax.set_xlabel('Engel Rate', fontsize=16)\n",
    "ax.set_xlim([0.0, 1.0])\n",
    "ax.tick_params(labelsize=16)\n",
    "\n",
    "fig.savefig('./fig/estimate_angel_rate_buyer.png')"
   ]
  },
  {
   "cell_type": "markdown",
   "metadata": {},
   "source": [
    "## β分布を事前分布に"
   ]
  },
  {
   "cell_type": "code",
   "execution_count": 12,
   "metadata": {},
   "outputs": [
    {
     "data": {
      "image/png": "[encoded data removed]",
      "text/plain": [
       "<matplotlib.figure.Figure at 0x7f475057ee80>"
      ]
     },
     "metadata": {},
     "output_type": "display_data"
    }
   ],
   "source": [
    "x = np.linspace(0.0, 0.999, 1000)\n",
    "y = stats.beta.pdf(x, 2, 15)\n",
    "plt.plot(x, y)\n",
    "pd.DataFrame({'x':x, 'y':y}).sort_values(by=['y'], ascending=False)[:3]\n",
    "\n",
    "#plt.savefig('./fig/beta_dist.png')"
   ]
  },
  {
   "cell_type": "code",
   "execution_count": 10,
   "metadata": {},
   "outputs": [],
   "source": [
    "def getMCMCResultBeta(data, n_sample=15000, n_burn=5000):\n",
    "    \"\"\"\n",
    "    MCMCでエンゼルの出現確率を予測する\n",
    "    Args:\n",
    "        data:エンゼルの観測結果(array)\n",
    "        n_sample:MCMCシミュレーションの回数(integer)\n",
    "        n_burn:捨てる数(integer)\n",
    "    \"\"\"\n",
    "    # 出現確率pの事前分布\n",
    "    p = pm.Beta('p', alpha=2, beta=15)\n",
    "    # 観測を結びつける\n",
    "    obs = pm.Bernoulli('obs', p, value=data, observed=True)\n",
    "\n",
    "    # MCMC\n",
    "    # Modelオブジェクト生成\n",
    "    model = pm.Model([p, obs])\n",
    "    mcmc = pm.MCMC(model)\n",
    "    mcmc.sample(n_sample, n_burn)\n",
    "\n",
    "    return mcmc.trace('p')[:]"
   ]
  },
  {
   "cell_type": "code",
   "execution_count": 11,
   "metadata": {},
   "outputs": [
    {
     "name": "stdout",
     "output_type": "stream",
     "text": [
      " [-----------------100%-----------------] 15000 of 15000 complete in 0.6 sec"
     ]
    },
    {
     "data": {
      "image/png": "[encoded data removed]",
      "text/plain": [
       "<matplotlib.figure.Figure at 0x7f47536a9128>"
      ]
     },
     "metadata": {},
     "output_type": "display_data"
    }
   ],
   "source": [
    "grp = data[data['campaign'] != 1].groupby(['buyer'])\n",
    "\n",
    "fig = plt.figure(figsize=(7, 4))\n",
    "ax = fig.subplots(1, 1)\n",
    "\n",
    "for key, group in grp:\n",
    "    p_dist_silver = pd.Series(getMCMCResultBeta(group['silver']))\n",
    "    sns.distplot(p_dist_silver, ax=ax, label=key)\n",
    "ax.legend(fontsize=14)\n",
    "ax.set_xlabel('Engel Rate', fontsize=16)\n",
    "ax.set_xlim([0.0, 1.0])\n",
    "ax.tick_params(labelsize=16)\n",
    "\n",
    "fig.savefig('./fig/estimate_angel_rate_buyer_beta.png')"
   ]
  },
  {
   "cell_type": "code",
   "execution_count": null,
   "metadata": {},
   "outputs": [],
   "source": []
  }
 ],
 "metadata": {
  "kernelspec": {
   "display_name": "Python 3",
   "language": "python",
   "name": "python3"
  },
  "language_info": {
   "codemirror_mode": {
    "name": "ipython",
    "version": 3
   },
   "file_extension": ".py",
   "mimetype": "text/x-python",
   "name": "python",
   "nbconvert_exporter": "python",
   "pygments_lexer": "ipython3",
   "version": "3.6.4"
  }
 },
 "nbformat": 4,
 "nbformat_minor": 2
}
